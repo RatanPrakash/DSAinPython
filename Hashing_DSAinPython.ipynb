{
 "cells": [
  {
   "cell_type": "code",
   "execution_count": 1,
   "metadata": {},
   "outputs": [
    {
     "name": "stdout",
     "output_type": "stream",
     "text": [
      "Hello, World!\n"
     ]
    }
   ],
   "source": [
    "print(\"Hello, World!\")"
   ]
  },
  {
   "cell_type": "code",
   "execution_count": 136,
   "metadata": {},
   "outputs": [],
   "source": [
    "# D1[[1,2,3]] = \"list cannot be hashed, internal working of the Python Dictionaries.\""
   ]
  },
  {
   "cell_type": "code",
   "execution_count": 140,
   "metadata": {},
   "outputs": [],
   "source": [
    "# hash([1,2,3])\n",
    "\n",
    "D = {\"babes\" : \"yes\",\n",
    "    # [1,2,3]:\"python\",            ## unhashable type list\n",
    "     1: \"this will not work\"}"
   ]
  },
  {
   "cell_type": "code",
   "execution_count": 126,
   "metadata": {},
   "outputs": [],
   "source": [
    "class Dictionary:\n",
    "    def __init__(self, size) -> None:\n",
    "        self.size = size\n",
    "        self.slots = [None] * self.size\n",
    "        self.data = [None] * self.size\n",
    "    \n",
    "    def put(self, key, value):\n",
    "        hash_value = self.hash_func(key)\n",
    "        if self.slots[hash_value] == None:   # if the slot and data cells are empty at the hash_value index\n",
    "            self.slots[hash_value] = key\n",
    "            self.data[hash_value] = value\n",
    "\n",
    "        else:                                # if not empty \n",
    "            if self.slots[hash_value] == key:      # if not empty but the key is alr present Update to new value\n",
    "                self.data[hash_value] = value      # update\n",
    "            \n",
    "            else:\n",
    "                new_hash_value = self.rehash(hash_value)\n",
    "\n",
    "                ## might run into infinite loop when no empty cell found (arrays full) and the key alr doesn't exist. \n",
    "                ## TODO: fix this to make it capable of doubling its own size\n",
    "                while self.slots[new_hash_value] != None and self.slots[new_hash_value] != key:\n",
    "                    new_hash_value = self.rehash(new_hash_value)\n",
    "\n",
    "                if self.slots[new_hash_value] is None:  # found empty cell after searching for the key if alr exists\n",
    "                    self.slots[new_hash_value] = key\n",
    "                    self.data[new_hash_value] = value\n",
    "\n",
    "                else:\n",
    "                    self.data[new_hash_value] = value   # found a cell with key alr existing so, Updated value\n",
    "\n",
    "    def get(self, key):\n",
    "        start_pos = self.hash_func(key)\n",
    "        if self.slots[start_pos] == key:\n",
    "            return self.data[start_pos]\n",
    "        else:\n",
    "            new_pos = self.rehash(start_pos)\n",
    "            while self.slots[new_pos] != None:\n",
    "\n",
    "                if self.slots[new_pos] == key:\n",
    "                    return self.data[new_pos]\n",
    "\n",
    "                new_pos = self.rehash(new_pos)\n",
    "\n",
    "                if new_pos == start_pos:\n",
    "                    return \"NotFoundError: traversed entire array but couldn't find the key.\"\n",
    "                \n",
    "            return \"NotFoundError: array has empty cells.\"\n",
    "\n",
    "    def __getitem__(self, key):\n",
    "        return self.get(key)\n",
    "\n",
    "    def rehash(self, old_hash):\n",
    "        return (old_hash + 1)%self.size\n",
    "    \n",
    "    def __setitem__(self, key, value):\n",
    "        self.put(key, value)\n",
    "\n",
    "    def hash_func(self, key):\n",
    "        return abs(hash(key))%self.size\n",
    "    \n",
    "    def __str__(self) -> str:\n",
    "        for i in range(len(self.slots)):\n",
    "            if self.data[i] != None:\n",
    "                print(self.slots[i], \":\", self.data[i])\n",
    "        return \"\"\n",
    "    \n",
    "\n",
    "    \n"
   ]
  },
  {
   "cell_type": "code",
   "execution_count": 127,
   "metadata": {},
   "outputs": [
    {
     "name": "stdout",
     "output_type": "stream",
     "text": [
      "[None, None, None]\n",
      "[None, None, None]\n"
     ]
    }
   ],
   "source": [
    "D1 = Dictionary(3)\n",
    "\n",
    "print(D1.slots)\n",
    "print(D1.data)"
   ]
  },
  {
   "cell_type": "code",
   "execution_count": 128,
   "metadata": {},
   "outputs": [],
   "source": [
    "D1['python'] = 3000"
   ]
  },
  {
   "cell_type": "code",
   "execution_count": 129,
   "metadata": {},
   "outputs": [],
   "source": [
    "D1.put(\"sex\", \"mujhe chiye bhai\")"
   ]
  },
  {
   "cell_type": "code",
   "execution_count": 130,
   "metadata": {},
   "outputs": [
    {
     "name": "stdout",
     "output_type": "stream",
     "text": [
      "slots:  ['sex', None, 'python']\n",
      "data:  ['mujhe chiye bhai', None, 3000]\n"
     ]
    }
   ],
   "source": [
    "print(\"slots: \", D1.slots)\n",
    "print(\"data: \", D1.data)"
   ]
  },
  {
   "cell_type": "code",
   "execution_count": 131,
   "metadata": {},
   "outputs": [
    {
     "data": {
      "text/plain": [
       "'NotFoundError: array has empty cells.'"
      ]
     },
     "execution_count": 131,
     "metadata": {},
     "output_type": "execute_result"
    }
   ],
   "source": [
    "D1.get(\"python3\")"
   ]
  },
  {
   "cell_type": "code",
   "execution_count": 132,
   "metadata": {},
   "outputs": [
    {
     "data": {
      "text/plain": [
       "'mujhe chiye bhai'"
      ]
     },
     "execution_count": 132,
     "metadata": {},
     "output_type": "execute_result"
    }
   ],
   "source": [
    "D1[\"sex\"]"
   ]
  },
  {
   "cell_type": "code",
   "execution_count": 133,
   "metadata": {},
   "outputs": [
    {
     "name": "stdout",
     "output_type": "stream",
     "text": [
      "sex : mujhe chiye bhai\n",
      "python : 3000\n",
      "\n"
     ]
    }
   ],
   "source": [
    "print(D1)"
   ]
  },
  {
   "cell_type": "code",
   "execution_count": null,
   "metadata": {},
   "outputs": [],
   "source": []
  }
 ],
 "metadata": {
  "kernelspec": {
   "display_name": "Python 3",
   "language": "python",
   "name": "python3"
  },
  "language_info": {
   "codemirror_mode": {
    "name": "ipython",
    "version": 3
   },
   "file_extension": ".py",
   "mimetype": "text/x-python",
   "name": "python",
   "nbconvert_exporter": "python",
   "pygments_lexer": "ipython3",
   "version": "3.11.4"
  },
  "orig_nbformat": 4
 },
 "nbformat": 4,
 "nbformat_minor": 2
}
