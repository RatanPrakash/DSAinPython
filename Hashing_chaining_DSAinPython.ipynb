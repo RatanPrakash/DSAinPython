{
 "cells": [
  {
   "cell_type": "code",
   "execution_count": 1,
   "metadata": {},
   "outputs": [
    {
     "name": "stdout",
     "output_type": "stream",
     "text": [
      "Hashing via chaining, using the default Python Kernel.\n",
      "Python 3.11.4\n",
      "/opt/homebrew/bin/python3\n",
      "/Users/ratanprakash/Desktop/Coding/python/DSAinPython\n"
     ]
    }
   ],
   "source": [
    "print(\"Hashing via chaining, using the default Python Kernel.\")\n",
    "!python3 --version\n",
    "!which python3\n",
    "!pwd"
   ]
  },
  {
   "cell_type": "code",
   "execution_count": 2,
   "metadata": {},
   "outputs": [],
   "source": [
    "class Node():\n",
    "    def __init__(self, key, value) -> None:\n",
    "        self.key = key\n",
    "        self.value = value\n",
    "        self.next = None\n",
    "\n",
    "## Node redefined to be used for Dictionary key/value pairs."
   ]
  },
  {
   "cell_type": "code",
   "execution_count": 48,
   "metadata": {},
   "outputs": [],
   "source": [
    "class LinkedList():\n",
    "    def __init__(self) -> None:\n",
    "        ##create an empty linked list - one with ZERO NODES\n",
    "        self.head = None\n",
    "        self.n = 0 # no. of nodes in the LL\n",
    "\n",
    "    def __len__(self) -> int:\n",
    "        return self.n\n",
    "\n",
    "    def insert_head(self, key, value):\n",
    "        new_node = Node(key, value)\n",
    "        new_node.next = self.head\n",
    "        self.head = new_node\n",
    "        self.n += 1\n",
    "\n",
    "    def append(self, key, value):\n",
    "        try:\n",
    "            curr = self.head\n",
    "            while curr.next != None: \n",
    "                curr = curr.next\n",
    "            else:\n",
    "                new_node = Node(key, value)  ##new node created with value\n",
    "                curr.next = new_node  ##creating the connection \n",
    "                new_node.next = None \n",
    "                self.n += 1\n",
    "        except:\n",
    "            self.insert_head(key, value)\n",
    "\n",
    "    def __str__(self) -> str:\n",
    "        curr = self.head\n",
    "        result = ''\n",
    "        while curr != None: \n",
    "            result += str(curr.key) + ':' + str(curr.value) + '->'\n",
    "            curr = curr.next\n",
    "        result = result[:-2]\n",
    "        return result\n",
    "\n",
    "    def insert(self, value, index) -> None:\n",
    "        if index >= self.n or index < 0:\n",
    "            return f\"IndexError: index {index} out of range.\"\n",
    "        \n",
    "        if index == 0:\n",
    "            self.insert_head(value)\n",
    "            return \n",
    "        \n",
    "        curr = self.head\n",
    "        i = 0\n",
    "        while index>i+1:\n",
    "            curr = curr.next\n",
    "            i += 1\n",
    "        else:\n",
    "            new_node = Node(value)  \n",
    "            new_node.next = curr.next  ##connecting next element to the current new node tail\n",
    "            curr.next = new_node       ##connecting last element to the current new node head\n",
    "            self.n += 1\n",
    "\n",
    "    def search(self, key) -> int:\n",
    "        curr = self.head\n",
    "        index = 0\n",
    "        while curr != None:\n",
    "            if curr.key == key:\n",
    "                return index\n",
    "            curr = curr.next\n",
    "            index += 1 \n",
    "\n",
    "        return f\"ItemNotFoundError: Item {key} not found in the Linked List.\"\n",
    "\n",
    "    def clear(self):\n",
    "        ##set to initial conditions\n",
    "        self.head = None\n",
    "        self.n = 0\n",
    "\n",
    "    def delete(self, index):\n",
    "        if index >= self.n or index < 0:\n",
    "            return f\"IndexError: index {index} out of range.\"\n",
    "        \n",
    "        if index == 0:\n",
    "            self.head = self.head.next\n",
    "            self.n -= 1\n",
    "            return\n",
    "\n",
    "        curr = self.head\n",
    "        i = 0\n",
    "        while index-1 > i:\n",
    "            curr = curr.next\n",
    "            i += 1\n",
    "        else:\n",
    "            curr.next = curr.next.next\n",
    "            self.n -= 1\n",
    "\n",
    "    def delete_value(self, value):\n",
    "        index = self.search(value)\n",
    "\n",
    "        if type(index) == int:\n",
    "            self.delete(index)\n",
    "            return \n",
    "        \n",
    "        return index\n",
    "\n",
    "    def value_at_index(self, index):\n",
    "        if index < 0 or index >= self.n:\n",
    "            return f\"IndexOutOfRangeError: Index {index} not in range.\"\n",
    "        else:\n",
    "            curr = self.head\n",
    "            i = 0 \n",
    "            while i < index:\n",
    "                curr = curr.next\n",
    "                i += 1\n",
    "            else:\n",
    "                return curr.data\n",
    "\n",
    "    def traverse_sentence_ques(self):\n",
    "        curr = self.head\n",
    "        result = ''\n",
    "        consecutive = 0\n",
    "        upper = False\n",
    "        while curr != None: \n",
    "            if curr.data in ['*', '/'] and consecutive == 0:\n",
    "                result += ' '\n",
    "                consecutive += 1\n",
    "                curr = curr.next\n",
    "                continue\n",
    "            elif curr.data in ['*', '/'] and consecutive == 1:\n",
    "                upper = True\n",
    "                consecutive = 0\n",
    "            else:\n",
    "                if upper:\n",
    "                    result += str(curr.data).upper()\n",
    "                    upper = False\n",
    "                else:\n",
    "                    result += str(curr.data)\n",
    "            consecutive = 0\n",
    "            curr = curr.next\n",
    "        return result\n",
    "    \n",
    "    def get_node_at_index(self, index):\n",
    "        temp = self.head\n",
    "        counter = 0\n",
    "        while temp is not None:\n",
    "            if counter == index:\n",
    "                return temp\n",
    "            counter += 1\n",
    "            temp = temp.next\n",
    "        return \"NahiMilaBhaiError\""
   ]
  },
  {
   "cell_type": "code",
   "execution_count": 49,
   "metadata": {},
   "outputs": [
    {
     "name": "stdout",
     "output_type": "stream",
     "text": [
      "2:3->4:6->7:8\n"
     ]
    }
   ],
   "source": [
    "L = LinkedList()\n",
    "\n",
    "L.append(2,3)\n",
    "L.append(4,6)\n",
    "L.append(7,8)\n",
    "\n",
    "print(L)"
   ]
  },
  {
   "cell_type": "code",
   "execution_count": 212,
   "metadata": {},
   "outputs": [],
   "source": [
    "class Dictionary:\n",
    "    def __init__(self, capacity) -> None:\n",
    "        self.capacity = capacity\n",
    "        self.size = 0 \n",
    "        self.buckets = self.make_array(capacity)\n",
    "\n",
    "    def make_array(self, capacity):\n",
    "        L = []\n",
    "        for i in range(capacity):\n",
    "            L.append(LinkedList())\n",
    "        return L\n",
    "\n",
    "    def put(self, key, value):\n",
    "        bucket_index = self.hash_func(key)\n",
    "        node_index = self.get_node_index(bucket_index, key)\n",
    "        if type(node_index) != int:\n",
    "            #insert     #node nahi mila\n",
    "            self.buckets[bucket_index].append(key, value)\n",
    "            self.size += 1\n",
    "\n",
    "            load_factor = self.size / self.capacity\n",
    "            print(load_factor)\n",
    "            \n",
    "            if load_factor > 2.0:\n",
    "                self.rehash()\n",
    "        else:\n",
    "            #update     #mil gya\n",
    "            node = self.buckets[bucket_index].get_node_at_index(node_index)\n",
    "            node.value = value\n",
    "\n",
    "    def __setvalue__(self, key, value):\n",
    "        self.put(key, value)\n",
    "    \n",
    "    def rehash(self):\n",
    "        # print here the current load factor and size and capacity in readable format\n",
    "        # print(f\"Rehash called due to load factor {self.size}/{self.capacity} = {self.size/self.capacity}\")\n",
    "        old_buckets = self.buckets \n",
    "        self.capacity *= 2 #double the capacity\n",
    "        self.buckets = self.make_array(self.capacity) #create new buckets\n",
    "        for bucket in old_buckets: \n",
    "            curr = bucket.head \n",
    "            while curr != None: \n",
    "                self.put(curr.key, curr.value) \n",
    "                curr = curr.next\n",
    "        # print(f\"Rehashing done. New capacity is {self.capacity}, and new size is {self.size}.\")\n",
    "\n",
    "    def get(self, key):\n",
    "        bucket_index = self.hash_func(key) #get the bucket index for the key \n",
    "        node_index = self.get_node_index(bucket_index, key) #get the node index for the key\n",
    "        if type(node_index) != int:\n",
    "            return f\"ItemNotFoundError: Item {key} nahi mila bhai.\"\n",
    "        else:\n",
    "            node = self.buckets[bucket_index].get_node_at_index(node_index)\n",
    "            return node.value\n",
    "\n",
    "    def __getitem__(self, key):\n",
    "        return self.get(key)\n",
    "    \n",
    "    def traverse(self):\n",
    "        for bucket in self.buckets:\n",
    "            print(bucket)\n",
    "\n",
    "    def delete(self, key):\n",
    "        bucket_index = self.hash_func(key)\n",
    "        node_index = self.get_node_index(bucket_index, key)\n",
    "        # calculated bucket index and node index using the given key (to be converted into the (index = ) \n",
    "        # argument of delete function in LinkedList class)\n",
    "        if type(node_index) != int:\n",
    "            return f\"ItemNotFoundError: Item {key} nahi mila bhai.\"\n",
    "        else:\n",
    "            self.buckets[bucket_index].delete(node_index) #delete the node at the given index\n",
    "            self.size -= 1\n",
    "\n",
    "    def __delitem__(self, key):\n",
    "        self.delete(key)\n",
    "\n",
    "    def get_node_index(self, bucket_index, key):\n",
    "        node_index = self.buckets[bucket_index].search(key)\n",
    "        return node_index\n",
    "\n",
    "    def hash_func(self, key):\n",
    "        return abs(hash(key)) % self.capacity\n",
    "    \n",
    "    def visualize_dict(self):\n",
    "        return self.buckets\n",
    "\n",
    "    # yaha khatam hai Dictionary class ka code bhai log kya mast hai na aur bhi mast banega abhi toh bas shuruat hai bhai log abhi toh bas shuruat hai bhai log \n",
    "    ## this above comment is written by GitHub Copilot, the AI pair programmer."
   ]
  },
  {
   "cell_type": "code",
   "execution_count": 213,
   "metadata": {},
   "outputs": [],
   "source": [
    "D = Dictionary(3)\n"
   ]
  },
  {
   "cell_type": "code",
   "execution_count": 214,
   "metadata": {},
   "outputs": [
    {
     "name": "stdout",
     "output_type": "stream",
     "text": [
      "0.3333333333333333\n",
      "0.6666666666666666\n",
      "1.0\n",
      "1.3333333333333333\n",
      "1.6666666666666667\n",
      "2.0\n",
      "2.3333333333333335\n",
      "1.3333333333333333\n",
      "1.5\n",
      "1.6666666666666667\n",
      "1.8333333333333333\n",
      "2.0\n",
      "2.1666666666666665\n",
      "1.1666666666666667\n",
      "1.25\n",
      "1.3333333333333333\n",
      "1.4166666666666667\n",
      "1.5\n",
      "1.5833333333333333\n",
      "1.6666666666666667\n",
      "1.75\n",
      "1.8333333333333333\n",
      "1.9166666666666667\n",
      "2.0\n",
      "2.0833333333333335\n",
      "1.0833333333333333\n",
      "1.125\n",
      "1.1666666666666667\n",
      "1.2083333333333333\n",
      "1.25\n",
      "1.2916666666666667\n",
      "1.3333333333333333\n",
      "1.375\n",
      "1.4166666666666667\n",
      "1.4583333333333333\n",
      "1.5\n",
      "1.5416666666666667\n",
      "1.5833333333333333\n",
      "1.625\n"
     ]
    }
   ],
   "source": [
    "D.put(\"php\", -700000.18)\n",
    "D.put(\"java\", 90.18)\n",
    "D.put(\"javascript\", 911.18)\n",
    "D.put(\"python\", 8801868771)\n",
    "D.put(\"ruby\", 10.9922222222)\n",
    "D.put(\"c\", .100)\n",
    "D.put(\"c#\", 1.100)\n",
    "D.put(\"docker\", 1.100099)\n",
    "D.put(\"c++\", 100777777)\n",
    "D.put(\"go\", 777)\n",
    "D.put(\"kotlin\", 10.10)\n",
    "D.put(\"swift\", 10.111111)\n",
    "D.put(\"rust\", 0.000001)\n",
    "D.put(\"scala\", 99.100)"
   ]
  },
  {
   "cell_type": "code",
   "execution_count": 215,
   "metadata": {},
   "outputs": [
    {
     "name": "stdout",
     "output_type": "stream",
     "text": [
      "0 \n",
      "1 kotlin:10.1\n",
      "2 c:0.1\n",
      "3 c#:1.1\n",
      "4 docker:1.100099\n",
      "5 \n",
      "6 \n",
      "7 c++:100777777\n",
      "8 java:90.18\n",
      "9 \n",
      "10 swift:10.111111\n",
      "11 \n",
      "12 \n",
      "13 php:-700000.18->ruby:10.9922222222\n",
      "14 go:777\n",
      "15 \n",
      "16 \n",
      "17 \n",
      "18 javascript:911.18\n",
      "19 rust:1e-06\n",
      "20 scala:99.1\n",
      "21 \n",
      "22 \n",
      "23 python:8801868771\n"
     ]
    }
   ],
   "source": [
    "for i in range(len(D.buckets)):\n",
    "    print(i, D.buckets[i])"
   ]
  },
  {
   "cell_type": "code",
   "execution_count": 216,
   "metadata": {},
   "outputs": [
    {
     "name": "stdout",
     "output_type": "stream",
     "text": [
      "22\n",
      "17\n",
      "3\n"
     ]
    }
   ],
   "source": [
    "## TODO: understand why the following show a different index for the same key.\n",
    "print(hash(\"c\") % D.capacity)\n",
    "print(hash(\"c++\") % D.capacity)\n",
    "print(hash(\"c#\") % D.capacity)\n"
   ]
  },
  {
   "cell_type": "code",
   "execution_count": 217,
   "metadata": {},
   "outputs": [
    {
     "name": "stdout",
     "output_type": "stream",
     "text": [
      "\n",
      "kotlin:10.1\n",
      "c:0.1\n",
      "c#:1.1\n",
      "docker:1.100099\n",
      "\n",
      "\n",
      "c++:100777777\n",
      "java:90.18\n",
      "\n",
      "swift:10.111111\n",
      "\n",
      "\n",
      "php:-700000.18->ruby:10.9922222222\n",
      "go:777\n",
      "\n",
      "\n",
      "\n",
      "javascript:911.18\n",
      "rust:1e-06\n",
      "scala:99.1\n",
      "\n",
      "\n",
      "python:8801868771\n"
     ]
    }
   ],
   "source": [
    "D.traverse()"
   ]
  },
  {
   "cell_type": "code",
   "execution_count": 222,
   "metadata": {},
   "outputs": [
    {
     "data": {
      "text/plain": [
       "'ItemNotFoundError: Item c++ nahi mila bhai.'"
      ]
     },
     "execution_count": 222,
     "metadata": {},
     "output_type": "execute_result"
    }
   ],
   "source": [
    "D.delete(\"c++\")"
   ]
  },
  {
   "cell_type": "code",
   "execution_count": 232,
   "metadata": {},
   "outputs": [],
   "source": [
    "del D[\"c++\"]\n",
    "## TODO: understand why the above code is not returning that the key is not found."
   ]
  },
  {
   "cell_type": "code",
   "execution_count": 228,
   "metadata": {},
   "outputs": [
    {
     "name": "stdout",
     "output_type": "stream",
     "text": [
      "{'cool': 10}\n"
     ]
    }
   ],
   "source": [
    "D1 = {\"cool\": 10}\n",
    "print(D1)"
   ]
  },
  {
   "cell_type": "code",
   "execution_count": 233,
   "metadata": {},
   "outputs": [
    {
     "ename": "KeyError",
     "evalue": "'cool'",
     "output_type": "error",
     "traceback": [
      "\u001b[0;31m---------------------------------------------------------------------------\u001b[0m",
      "\u001b[0;31mKeyError\u001b[0m                                  Traceback (most recent call last)",
      "\u001b[1;32m/Users/ratanprakash/Desktop/Coding/python/DSAinPython/Hashing_chaining_DSAinPython.ipynb Cell 14\u001b[0m line \u001b[0;36m1\n\u001b[0;32m----> <a href='vscode-notebook-cell:/Users/ratanprakash/Desktop/Coding/python/DSAinPython/Hashing_chaining_DSAinPython.ipynb#X26sZmlsZQ%3D%3D?line=0'>1</a>\u001b[0m \u001b[39mdel\u001b[39;00m D1[\u001b[39m\"\u001b[39;49m\u001b[39mcool\u001b[39;49m\u001b[39m\"\u001b[39;49m]\n",
      "\u001b[0;31mKeyError\u001b[0m: 'cool'"
     ]
    }
   ],
   "source": [
    "del D1[\"cool\"]"
   ]
  },
  {
   "cell_type": "code",
   "execution_count": 230,
   "metadata": {},
   "outputs": [
    {
     "name": "stdout",
     "output_type": "stream",
     "text": [
      "{}\n"
     ]
    }
   ],
   "source": [
    "print(D1)   "
   ]
  },
  {
   "cell_type": "code",
   "execution_count": null,
   "metadata": {},
   "outputs": [],
   "source": []
  }
 ],
 "metadata": {
  "kernelspec": {
   "display_name": "Python 3",
   "language": "python",
   "name": "python3"
  },
  "language_info": {
   "codemirror_mode": {
    "name": "ipython",
    "version": 3
   },
   "file_extension": ".py",
   "mimetype": "text/x-python",
   "name": "python",
   "nbconvert_exporter": "python",
   "pygments_lexer": "ipython3",
   "version": "3.11.4"
  },
  "orig_nbformat": 4
 },
 "nbformat": 4,
 "nbformat_minor": 2
}
