{
 "cells": [
  {
   "cell_type": "code",
   "execution_count": 1,
   "id": "64e8a09a",
   "metadata": {},
   "outputs": [
    {
     "name": "stdout",
     "output_type": "stream",
     "text": [
      "hello world!\n"
     ]
    }
   ],
   "source": [
    "print(\"hello world!\")"
   ]
  },
  {
   "cell_type": "code",
   "execution_count": 2,
   "id": "456f1dcb",
   "metadata": {},
   "outputs": [],
   "source": [
    "import sys"
   ]
  },
  {
   "cell_type": "code",
   "execution_count": 7,
   "id": "17c0fdc4",
   "metadata": {},
   "outputs": [
    {
     "data": {
      "text/plain": [
       "56"
      ]
     },
     "execution_count": 7,
     "metadata": {},
     "output_type": "execute_result"
    }
   ],
   "source": [
    "L = []\n",
    "\n",
    "sys.getsizeof(L)"
   ]
  },
  {
   "cell_type": "code",
   "execution_count": 8,
   "id": "e8eb2d4d",
   "metadata": {},
   "outputs": [
    {
     "name": "stdout",
     "output_type": "stream",
     "text": [
      "0 56\n",
      "1 88\n",
      "2 88\n",
      "3 88\n",
      "4 88\n",
      "5 120\n",
      "6 120\n",
      "7 120\n",
      "8 120\n",
      "9 184\n",
      "10 184\n",
      "11 184\n",
      "12 184\n",
      "13 184\n",
      "14 184\n",
      "15 184\n",
      "16 184\n",
      "17 248\n",
      "18 248\n",
      "19 248\n",
      "20 248\n",
      "21 248\n",
      "22 248\n",
      "23 248\n",
      "24 248\n",
      "25 312\n",
      "26 312\n",
      "27 312\n",
      "28 312\n",
      "29 312\n",
      "30 312\n",
      "31 312\n",
      "32 312\n",
      "33 376\n",
      "34 376\n",
      "35 376\n",
      "36 376\n",
      "37 376\n",
      "38 376\n",
      "39 376\n",
      "40 376\n",
      "41 472\n",
      "42 472\n",
      "43 472\n",
      "44 472\n",
      "45 472\n",
      "46 472\n",
      "47 472\n",
      "48 472\n",
      "49 472\n"
     ]
    }
   ],
   "source": [
    "for i in range(50):\n",
    "    print(i, sys.getsizeof(L))\n",
    "    L.append(i)"
   ]
  },
  {
   "cell_type": "code",
   "execution_count": 815,
   "id": "227bc680",
   "metadata": {},
   "outputs": [],
   "source": [
    "import ctypes\n",
    "\n",
    "class meraList():\n",
    "    def __init__(self):\n",
    "        self.size = 1    ##maximum items that u can store\n",
    "        self.n = 0       ##no of items actually present\n",
    "        #create a c type array with size of = self.size\n",
    "        self.A = self.__makeArray(self.size)\n",
    "    \n",
    "    def __makeArray(self, capacity):\n",
    "        ##this code creates a c type array (static, referential) with size = capacity\n",
    "        return (capacity*ctypes.py_object)()\n",
    "    \n",
    "    def __len__(self):\n",
    "        return self.n\n",
    "    \n",
    "    def append(self, item):\n",
    "        if self.size > self.n:\n",
    "            self.A[self.n] = item\n",
    "            self.n += 1\n",
    "        else:\n",
    "            self.__resize(self.size*2) ## resize to increase the size of the array\n",
    "            self.A[self.n] = item\n",
    "            self.n += 1\n",
    "            \n",
    "    def extend(self, items):\n",
    "        for item in items:\n",
    "            self.append(item)\n",
    "            \n",
    "    def summation(self):\n",
    "        sum_ = 0\n",
    "        for item in self.A:\n",
    "            if type(item) in [int, float]:\n",
    "                sum_ += item\n",
    "        return sum_\n",
    "    \n",
    "    def maximum(self):\n",
    "        max_ = -float('inf')\n",
    "        for item in self.A:\n",
    "            if type(item) in [int, float]:\n",
    "                if item > max_:\n",
    "                    max_ = item \n",
    "        return max_\n",
    "    \n",
    "    def minimum(self):\n",
    "        min_ = float('inf')\n",
    "        for item in self.A:\n",
    "            if type(item) in [int, float]:\n",
    "                if item < min_:\n",
    "                    min_ = item \n",
    "        return min_\n",
    "    \n",
    "    \n",
    "    def pop(self):\n",
    "        if self.n:\n",
    "            lastElement = self.A[self.n-1]\n",
    "#             self.A = self.A[:-1]       ##you don't have to actually delete the element from the list\n",
    "            self.n -= 1\n",
    "            return lastElement\n",
    "        else:\n",
    "            return \"PopError: cannot pop from an empty list.\"\n",
    "        \n",
    "    def clear(self):\n",
    "        self.n = 0\n",
    "        self.size = 1\n",
    "        \n",
    "    def find(self, item):\n",
    "        ##linear search, can be improved with Binary Search\n",
    "        for index in range(self.n):\n",
    "            if item == self.A[index]:\n",
    "                return index\n",
    "            else:\n",
    "                pass\n",
    "            \n",
    "        return \"ItemNotFoundError: item not found in the list.\"\n",
    "\n",
    "    def insert(self, index, item):\n",
    "        if self.size == self.n:\n",
    "            self.__resize(self.size*2) ## resize to increase the size of the array\n",
    "\n",
    "        for i in range(self.n, index, -1):  ##ulta loop\n",
    "            self.A[i] = self.A[i-1]\n",
    "            \n",
    "        self.A[index] = item\n",
    "        self.n += 1\n",
    "        \n",
    "    def __delitem__(self, index):\n",
    "        if 0<= index < self.n:\n",
    "            for i in range(index, self.n-1):\n",
    "                self.A[i] = self.A[i+1]\n",
    "            self.n -= 1\n",
    "\n",
    "        else:\n",
    "            return \"IndexError: index not in range of the list.\"\n",
    "        \n",
    "    def remove(self, item): ##searches the item and then deletes it\n",
    "#         deleted = False\n",
    "#         for i, arr_item in enumerate(self.A):\n",
    "#             if arr_item == item:\n",
    "#                 self.__delitem__(i)\n",
    "#                 self.n -= 1  ##this is furthemore wrong, as it will again reduce the size of the array \n",
    "#                 deleted = True\n",
    "\n",
    "        index = self.find(item)\n",
    "    \n",
    "        if type(index) == int:\n",
    "            self.__delitem__(index)\n",
    "        else:\n",
    "            return index\n",
    "        \n",
    "    def __resize(self, newCapacity):\n",
    "        B = self.__makeArray(newCapacity)\n",
    "        self.size = newCapacity\n",
    "        \n",
    "        for i in range(self.n):\n",
    "            B[i] = self.A[i]\n",
    "        \n",
    "        self.A = B\n",
    "    \n",
    "        \n",
    "    def __str__(self):\n",
    "        result = \"\"\n",
    "        for i in range(self.n):\n",
    "            result += (str(self.A[i]) + ',')\n",
    "        result = '[' + result[:-1 ] + ']'\n",
    "        return result\n",
    "    \n",
    "    def __getitem__(self, index):\n",
    "        if self.n > index >= -self.n:\n",
    "            return self.A[index]\n",
    "        \n",
    "#         elif -self.n <= index < 0: \n",
    "#             return self.A[index]\n",
    "        else:\n",
    "            return \"IndexError - index out of range, enter a valid index\""
   ]
  },
  {
   "cell_type": "code",
   "execution_count": 816,
   "id": "256735e5",
   "metadata": {},
   "outputs": [],
   "source": [
    "L = meraList()"
   ]
  },
  {
   "cell_type": "code",
   "execution_count": 817,
   "id": "4f7c4aae",
   "metadata": {},
   "outputs": [
    {
     "data": {
      "text/plain": [
       "0"
      ]
     },
     "execution_count": 817,
     "metadata": {},
     "output_type": "execute_result"
    }
   ],
   "source": [
    "len(L)"
   ]
  },
  {
   "cell_type": "code",
   "execution_count": 818,
   "id": "76a876db",
   "metadata": {},
   "outputs": [],
   "source": [
    "L.append(1)\n",
    "L.append(\"hello\")\n",
    "L.append(2)\n",
    "# L.append(meraList())"
   ]
  },
  {
   "cell_type": "code",
   "execution_count": 819,
   "id": "3771aa0d",
   "metadata": {
    "scrolled": true
   },
   "outputs": [
    {
     "data": {
      "text/plain": [
       "3"
      ]
     },
     "execution_count": 819,
     "metadata": {},
     "output_type": "execute_result"
    }
   ],
   "source": [
    "len(L)"
   ]
  },
  {
   "cell_type": "code",
   "execution_count": 820,
   "id": "4daaf27a",
   "metadata": {},
   "outputs": [
    {
     "name": "stdout",
     "output_type": "stream",
     "text": [
      "[1,hello,2]\n"
     ]
    }
   ],
   "source": [
    "print(L)"
   ]
  },
  {
   "cell_type": "code",
   "execution_count": 821,
   "id": "fc27c483",
   "metadata": {},
   "outputs": [],
   "source": [
    "# del L[2000]"
   ]
  },
  {
   "cell_type": "code",
   "execution_count": 822,
   "id": "cfa17ac3",
   "metadata": {},
   "outputs": [],
   "source": [
    "# print(L)"
   ]
  },
  {
   "cell_type": "code",
   "execution_count": 823,
   "id": "9ae59787",
   "metadata": {},
   "outputs": [],
   "source": [
    "# L.clear()\n",
    "# print(L)\n",
    "# len(L)"
   ]
  },
  {
   "cell_type": "code",
   "execution_count": 824,
   "id": "243541e4",
   "metadata": {},
   "outputs": [
    {
     "data": {
      "text/plain": [
       "'ItemNotFoundError: item not found in the list.'"
      ]
     },
     "execution_count": 824,
     "metadata": {},
     "output_type": "execute_result"
    }
   ],
   "source": [
    "L.find(100)"
   ]
  },
  {
   "cell_type": "code",
   "execution_count": 825,
   "id": "ca711a9e",
   "metadata": {},
   "outputs": [],
   "source": [
    "L.insert(3, 9.9)"
   ]
  },
  {
   "cell_type": "code",
   "execution_count": 826,
   "id": "51440af5",
   "metadata": {},
   "outputs": [
    {
     "data": {
      "text/plain": [
       "'ItemNotFoundError: item not found in the list.'"
      ]
     },
     "execution_count": 826,
     "metadata": {},
     "output_type": "execute_result"
    }
   ],
   "source": [
    "L.remove('hlo')"
   ]
  },
  {
   "cell_type": "code",
   "execution_count": 827,
   "id": "0c0627e7",
   "metadata": {},
   "outputs": [
    {
     "name": "stdout",
     "output_type": "stream",
     "text": [
      "[1,hello,2,9.9]\n"
     ]
    }
   ],
   "source": [
    "print(L)"
   ]
  },
  {
   "cell_type": "code",
   "execution_count": 828,
   "id": "43930273",
   "metadata": {},
   "outputs": [],
   "source": [
    "# L.extend({'hello', 0, 1 , 'e;'})"
   ]
  },
  {
   "cell_type": "code",
   "execution_count": 829,
   "id": "358245b9",
   "metadata": {},
   "outputs": [
    {
     "data": {
      "text/plain": [
       "12.9"
      ]
     },
     "execution_count": 829,
     "metadata": {},
     "output_type": "execute_result"
    }
   ],
   "source": [
    "L.summation()"
   ]
  },
  {
   "cell_type": "code",
   "execution_count": 830,
   "id": "7f776e21",
   "metadata": {},
   "outputs": [
    {
     "name": "stdout",
     "output_type": "stream",
     "text": [
      "[1,hello,2,9.9]\n"
     ]
    }
   ],
   "source": [
    "print(L)"
   ]
  },
  {
   "cell_type": "code",
   "execution_count": 831,
   "id": "63ee250a",
   "metadata": {},
   "outputs": [
    {
     "data": {
      "text/plain": [
       "9.9"
      ]
     },
     "execution_count": 831,
     "metadata": {},
     "output_type": "execute_result"
    }
   ],
   "source": [
    "L.maximum()"
   ]
  },
  {
   "cell_type": "code",
   "execution_count": 832,
   "id": "57b4206b",
   "metadata": {},
   "outputs": [
    {
     "data": {
      "text/plain": [
       "1"
      ]
     },
     "execution_count": 832,
     "metadata": {},
     "output_type": "execute_result"
    }
   ],
   "source": [
    "L.minimum()"
   ]
  },
  {
   "cell_type": "code",
   "execution_count": null,
   "id": "817521cd",
   "metadata": {},
   "outputs": [],
   "source": []
  }
 ],
 "metadata": {
  "kernelspec": {
   "display_name": "Python 3 (ipykernel)",
   "language": "python",
   "name": "python3"
  },
  "language_info": {
   "codemirror_mode": {
    "name": "ipython",
    "version": 3
   },
   "file_extension": ".py",
   "mimetype": "text/x-python",
   "name": "python",
   "nbconvert_exporter": "python",
   "pygments_lexer": "ipython3",
   "version": "3.10.7"
  }
 },
 "nbformat": 4,
 "nbformat_minor": 5
}
