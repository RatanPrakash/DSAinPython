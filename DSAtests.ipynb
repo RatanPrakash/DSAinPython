{
 "cells": [
  {
   "cell_type": "code",
   "execution_count": 1,
   "metadata": {},
   "outputs": [
    {
     "name": "stdout",
     "output_type": "stream",
     "text": [
      "/usr/local/bin/python3\n",
      "/Users/ratanprakash/Desktop/Coding/python/DSAinPython\n",
      "Python 3.10.7\n"
     ]
    }
   ],
   "source": [
    "!which python3\n",
    "!pwd\n",
    "!python3 -V"
   ]
  },
  {
   "cell_type": "code",
   "execution_count": 1,
   "metadata": {},
   "outputs": [],
   "source": [
    "import time"
   ]
  },
  {
   "cell_type": "code",
   "execution_count": 2,
   "metadata": {},
   "outputs": [
    {
     "name": "stdout",
     "output_type": "stream",
     "text": [
      "100000000\n",
      "4.721624135971069\n"
     ]
    }
   ],
   "source": [
    "s = time.time()\n",
    "n = 0\n",
    "while n < 100_000_000:\n",
    "    n += 1\n",
    "print(n)\n",
    "print(time.time() - s)"
   ]
  },
  {
   "cell_type": "code",
   "execution_count": 10,
   "metadata": {},
   "outputs": [
    {
     "name": "stdout",
     "output_type": "stream",
     "text": [
      "4999999950000000\n",
      "8.818746089935303\n"
     ]
    }
   ],
   "source": [
    "s = time.time()\n",
    "sum = 0\n",
    "i = 0\n",
    "while i < 100_000_000:\n",
    "    sum += i\n",
    "    i += 1\n",
    "print(sum)\n",
    "print(time.time() - s)"
   ]
  },
  {
   "cell_type": "code",
   "execution_count": 3,
   "metadata": {},
   "outputs": [
    {
     "name": "stdout",
     "output_type": "stream",
     "text": [
      "0\n",
      "2.1692469120025635\n"
     ]
    }
   ],
   "source": [
    "import time\n",
    "s = time.time()\n",
    "sum = 0\n",
    "for i in range(100_000_000):\n",
    "    pass\n",
    "print(sum)\n",
    "print(time.time() - s)"
   ]
  },
  {
   "cell_type": "code",
   "execution_count": 12,
   "metadata": {},
   "outputs": [
    {
     "name": "stdout",
     "output_type": "stream",
     "text": [
      "4999999950000000\n",
      "5.641594171524048\n"
     ]
    }
   ],
   "source": [
    "s = time.time()\n",
    "sum = 0\n",
    "for i in range(100_000_000):\n",
    "    sum += i\n",
    "print(sum)\n",
    "print(time.time() - s)"
   ]
  },
  {
   "cell_type": "code",
   "execution_count": 30,
   "metadata": {},
   "outputs": [
    {
     "name": "stdout",
     "output_type": "stream",
     "text": [
      "100000000\n",
      "4.872021198272705\n"
     ]
    }
   ],
   "source": [
    "s = time.time()\n",
    "n = 0\n",
    "for i in range(100_000_000):\n",
    "    n += 1\n",
    "print(n)\n",
    "print(time.time() - s)"
   ]
  },
  {
   "cell_type": "code",
   "execution_count": 31,
   "metadata": {},
   "outputs": [
    {
     "name": "stdout",
     "output_type": "stream",
     "text": [
      "100000000\n",
      "7.5756659507751465\n"
     ]
    }
   ],
   "source": [
    "s = time.time()\n",
    "i = 0\n",
    "n = 0\n",
    "while i < 100_000_000:\n",
    "    n += 1\n",
    "    i += 1\n",
    "print(n)\n",
    "print(time.time() - s)"
   ]
  },
  {
   "cell_type": "code",
   "execution_count": 20,
   "metadata": {},
   "outputs": [
    {
     "name": "stdout",
     "output_type": "stream",
     "text": [
      "[1, 2, 3, 4, 5, 6, 7, 8, 9, 1, 2, 3, 4, 5, 6, 7, 8, 9, 10, 2, 3, 4, 5, 6, 7, 8, 9, 10, 11, 3, 4, 5, 6, 7, 8, 9, 10, 11, 12, 4, 5, 6, 7, 8, 9, 10, 11, 12, 13, 5, 6, 7, 8, 9, 10, 11, 12, 13, 14, 6, 7, 8, 9, 10, 11, 12, 13, 14, 15, 7, 8, 9, 10, 11, 12, 13, 14, 15, 16, 8, 9, 10, 11, 12, 13, 14, 15, 16, 17, 9, 10, 11, 12, 13, 14, 15, 16, 17, 18, 1, 2, 3, 4, 5, 6, 7, 8, 9, 10, 2, 3, 4, 5, 6, 7, 8, 9, 10, 11, 3, 4, 5, 6, 7, 8, 9, 10, 11, 12, 4, 5, 6, 7, 8, 9, 10, 11, 12, 13, 5, 6, 7, 8, 9, 10, 11, 12, 13, 14, 6, 7, 8, 9, 10, 11, 12, 13, 14, 15, 7, 8, 9, 10, 11, 12, 13, 14, 15, 16, 8, 9, 10, 11, 12, 13, 14, 15, 16, 17, 9, 10, 11, 12, 13, 14, 15, 16, 17, 18, 10, 11, 12, 13, 14, 15, 16, 17, 18, 19, 2, 3, 4, 5, 6, 7, 8, 9, 10, 11, 3, 4, 5, 6, 7, 8, 9, 10, 11, 12, 4, 5, 6, 7, 8, 9, 10, 11, 12, 13, 5, 6, 7, 8, 9, 10, 11, 12, 13, 14, 6, 7, 8, 9, 10, 11, 12, 13, 14, 15, 7, 8, 9, 10, 11, 12, 13, 14, 15, 16, 8, 9, 10, 11, 12, 13, 14, 15, 16, 17, 9, 10, 11, 12, 13, 14, 15, 16, 17, 18, 10, 11, 12, 13, 14, 15, 16, 17, 18, 19, 11, 12, 13, 14, 15, 16, 17, 18, 19, 20, 3, 4, 5, 6, 7, 8, 9, 10, 11, 12, 4, 5, 6, 7, 8, 9, 10, 11, 12, 13, 5, 6, 7, 8, 9, 10, 11, 12, 13, 14, 6, 7, 8, 9, 10, 11, 12, 13, 14, 15, 7, 8, 9, 10, 11, 12, 13, 14, 15, 16, 8, 9, 10, 11, 12, 13, 14, 15, 16, 17, 9, 10, 11, 12, 13, 14, 15, 16, 17, 18, 10, 11, 12, 13, 14, 15, 16, 17, 18, 19, 11, 12, 13, 14, 15, 16, 17, 18, 19, 20, 12, 13, 14, 15, 16, 17, 18, 19, 20, 21, 4, 5, 6, 7, 8, 9, 10, 11, 12, 13, 5, 6, 7, 8, 9, 10, 11, 12, 13, 14, 6, 7, 8, 9, 10, 11, 12, 13, 14, 15, 7, 8, 9, 10, 11, 12, 13, 14, 15, 16, 8, 9, 10, 11, 12, 13, 14, 15, 16, 17, 9, 10, 11, 12, 13, 14, 15, 16, 17, 18, 10, 11, 12, 13, 14, 15, 16, 17, 18, 19, 11, 12, 13, 14, 15, 16, 17, 18, 19, 20, 12, 13, 14, 15, 16, 17, 18, 19, 20, 21, 13, 14, 15, 16, 17, 18, 19, 20, 21, 22, 5, 6, 7, 8, 9, 10, 11, 12, 13, 14, 6, 7, 8, 9, 10, 11, 12, 13, 14, 15, 7, 8, 9, 10, 11, 12, 13, 14, 15, 16, 8, 9, 10, 11, 12, 13, 14, 15, 16, 17, 9, 10, 11, 12, 13, 14, 15, 16, 17, 18, 10, 11, 12, 13, 14, 15, 16, 17, 18, 19, 11, 12, 13, 14, 15, 16, 17, 18, 19, 20, 12, 13, 14, 15, 16, 17, 18, 19, 20, 21, 13, 14, 15, 16, 17, 18, 19, 20, 21, 22, 14, 15, 16, 17, 18, 19, 20, 21, 22, 23, 6, 7, 8, 9, 10, 11, 12, 13, 14, 15, 7, 8, 9, 10, 11, 12, 13, 14, 15, 16, 8, 9, 10, 11, 12, 13, 14, 15, 16, 17, 9, 10, 11, 12, 13, 14, 15, 16, 17, 18, 10, 11, 12, 13, 14, 15, 16, 17, 18, 19, 11, 12, 13, 14, 15, 16, 17, 18, 19, 20, 12, 13, 14, 15, 16, 17, 18, 19, 20, 21, 13, 14, 15, 16, 17, 18, 19, 20, 21, 22, 14, 15, 16, 17, 18, 19, 20, 21, 22, 23, 15, 16, 17, 18, 19, 20, 21, 22, 23, 24, 7, 8, 9, 10, 11, 12, 13, 14, 15, 16, 8, 9, 10, 11, 12, 13, 14, 15, 16, 17, 9, 10, 11, 12, 13, 14, 15, 16, 17, 18, 10, 11, 12, 13, 14, 15, 16, 17, 18, 19, 11, 12, 13, 14, 15, 16, 17, 18, 19, 20, 12, 13, 14, 15, 16, 17, 18, 19, 20, 21, 13, 14, 15, 16, 17, 18, 19, 20, 21, 22, 14, 15, 16, 17, 18, 19, 20, 21, 22, 23, 15, 16, 17, 18, 19, 20, 21, 22, 23, 24, 16, 17, 18, 19, 20, 21, 22, 23, 24, 25, 8, 9, 10, 11, 12, 13, 14, 15, 16, 17, 9, 10, 11, 12, 13, 14, 15, 16, 17, 18, 10, 11, 12, 13, 14, 15, 16, 17, 18, 19, 11, 12, 13, 14, 15, 16, 17, 18, 19, 20, 12, 13, 14, 15, 16, 17, 18, 19, 20, 21, 13, 14, 15, 16, 17, 18, 19, 20, 21, 22, 14, 15, 16, 17, 18, 19, 20, 21, 22, 23, 15, 16, 17, 18, 19, 20, 21, 22, 23, 24, 16, 17, 18, 19, 20, 21, 22, 23, 24, 25, 17, 18, 19, 20, 21, 22, 23, 24, 25, 26, 9, 10, 11, 12, 13, 14, 15, 16, 17, 18, 10, 11, 12, 13, 14, 15, 16, 17, 18, 19, 11, 12, 13, 14, 15, 16, 17, 18, 19, 20, 12, 13, 14, 15, 16, 17, 18, 19, 20, 21, 13, 14, 15, 16, 17, 18, 19, 20, 21, 22, 14, 15, 16, 17, 18, 19, 20, 21, 22, 23, 15, 16, 17, 18, 19, 20, 21, 22, 23, 24, 16, 17, 18, 19, 20, 21, 22, 23, 24, 25, 17, 18, 19, 20, 21, 22, 23, 24, 25, 26, 18, 19, 20, 21, 22, 23, 24, 25, 26, 27, 1, 2, 3, 4, 5, 6, 7, 8, 9, 10, 2, 3, 4, 5, 6, 7, 8, 9, 10, 11, 3, 4, 5, 6, 7, 8, 9, 10, 11, 12, 4, 5, 6, 7, 8, 9, 10, 11, 12, 13, 5, 6, 7, 8, 9, 10, 11, 12, 13, 14, 6, 7, 8, 9, 10, 11, 12, 13, 14, 15, 7, 8, 9, 10, 11, 12, 13, 14, 15, 16, 8, 9, 10, 11, 12, 13, 14, 15, 16, 17, 9, 10, 11, 12, 13, 14, 15, 16, 17, 18, 10, 11, 12, 13, 14, 15, 16, 17, 18, 19, 2, 3, 4, 5, 6, 7, 8, 9, 10, 11, 3, 4, 5, 6, 7, 8, 9, 10, 11, 12, 4, 5, 6, 7, 8, 9, 10, 11, 12, 13, 5, 6, 7, 8, 9, 10, 11, 12, 13, 14, 6, 7, 8, 9, 10, 11, 12, 13, 14, 15, 7, 8, 9, 10, 11, 12, 13, 14, 15, 16, 8, 9, 10, 11, 12, 13, 14, 15, 16, 17, 9, 10, 11, 12, 13, 14, 15, 16, 17, 18, 10, 11, 12, 13, 14, 15, 16, 17, 18, 19, 11, 12, 13, 14, 15, 16, 17, 18, 19, 20, 3, 4, 5, 6, 7, 8, 9, 10, 11, 12, 4, 5, 6, 7, 8, 9, 10, 11, 12, 13, 5, 6, 7, 8, 9, 10, 11, 12, 13, 14, 6, 7, 8, 9, 10, 11, 12, 13, 14, 15, 7, 8, 9, 10, 11, 12, 13, 14, 15, 16, 8, 9, 10, 11, 12, 13, 14, 15, 16, 17, 9, 10, 11, 12, 13, 14, 15, 16, 17, 18, 10, 11, 12, 13, 14, 15, 16, 17, 18, 19, 11, 12, 13, 14, 15, 16, 17, 18, 19, 20, 12, 13, 14, 15, 16, 17, 18, 19, 20, 21, 4, 5, 6, 7, 8, 9, 10, 11, 12, 13, 5, 6, 7, 8, 9, 10, 11, 12, 13, 14, 6, 7, 8, 9, 10, 11, 12, 13, 14, 15, 7, 8, 9, 10, 11, 12, 13, 14, 15, 16, 8, 9, 10, 11, 12, 13, 14, 15, 16, 17, 9, 10, 11, 12, 13, 14, 15, 16, 17, 18, 10, 11, 12, 13, 14, 15, 16, 17, 18, 19, 11, 12, 13, 14, 15, 16, 17, 18, 19, 20, 12, 13, 14, 15, 16, 17, 18, 19, 20, 21, 13, 14, 15, 16, 17, 18, 19, 20, 21, 22, 5, 6, 7, 8, 9, 10, 11, 12, 13, 14, 6, 7, 8, 9, 10, 11, 12, 13, 14, 15, 7, 8, 9, 10, 11, 12, 13, 14, 15, 16, 8, 9, 10, 11, 12]\n",
      "1434\n",
      "18465\n"
     ]
    }
   ],
   "source": [
    "n = 1434\n",
    "\n",
    "numbers = list(range(1, n+1))\n",
    "\n",
    "# for each number in the list replace the number with its sum of digits\n",
    "for i in range(len(numbers)):\n",
    "    numbers[i] = sum(int(digit) for digit in str(numbers[i]))\n",
    "\n",
    "print(numbers)\n",
    "# print(list(range(1, n+1)))\n",
    "print(len(numbers))\n",
    "print(sum(numbers))"
   ]
  },
  {
   "cell_type": "code",
   "execution_count": 18,
   "metadata": {},
   "outputs": [
    {
     "data": {
      "text/plain": [
       "-1"
      ]
     },
     "execution_count": 18,
     "metadata": {},
     "output_type": "execute_result"
    }
   ],
   "source": [
    "# int(bin(~0), 2)"
   ]
  },
  {
   "cell_type": "code",
   "execution_count": 2,
   "metadata": {},
   "outputs": [
    {
     "data": {
      "text/plain": [
       "['0', '', '0000', '', '', '0', '', '0', '', '']"
      ]
     },
     "execution_count": 2,
     "metadata": {},
     "output_type": "execute_result"
    }
   ],
   "source": []
  },
  {
   "cell_type": "code",
   "execution_count": 4,
   "metadata": {},
   "outputs": [
    {
     "data": {
      "text/plain": [
       "Counter({3: 3, 1: 2, 2: 2, 4: 1})"
      ]
     },
     "execution_count": 4,
     "metadata": {},
     "output_type": "execute_result"
    }
   ],
   "source": [
    "from collections import Counter\n",
    "\n",
    "a = [ 1, 3, 3, 4, 1, 2, 3, 2]\n",
    "\n",
    "c = Counter(a)\n",
    "\n",
    "c"
   ]
  },
  {
   "cell_type": "code",
   "execution_count": 5,
   "metadata": {},
   "outputs": [
    {
     "name": "stdout",
     "output_type": "stream",
     "text": [
      "1 2\n",
      "3 3\n",
      "4 1\n",
      "2 2\n"
     ]
    }
   ],
   "source": [
    "for i in c:\n",
    "    print(i, c[i])"
   ]
  },
  {
   "cell_type": "code",
   "execution_count": 6,
   "metadata": {},
   "outputs": [
    {
     "data": {
      "text/plain": [
       "4"
      ]
     },
     "execution_count": 6,
     "metadata": {},
     "output_type": "execute_result"
    }
   ],
   "source": [
    "len(c)"
   ]
  },
  {
   "cell_type": "code",
   "execution_count": 7,
   "metadata": {},
   "outputs": [],
   "source": [
    "def prime_factors(n):\n",
    "  \"\"\"Return a list of all prime factors of a number.\"\"\"\n",
    "  factors = []\n",
    "  for i in range(2, int(n**0.5) + 1):\n",
    "    while n % i == 0:\n",
    "      factors.append(i)\n",
    "      n //= i\n",
    "  if n > 1:\n",
    "    factors.append(n)\n",
    "  return factors"
   ]
  },
  {
   "cell_type": "code",
   "execution_count": 8,
   "metadata": {},
   "outputs": [
    {
     "data": {
      "text/plain": [
       "[2, 2, 2, 2, 3]"
      ]
     },
     "execution_count": 8,
     "metadata": {},
     "output_type": "execute_result"
    }
   ],
   "source": [
    "prime_factors(48)"
   ]
  },
  {
   "cell_type": "code",
   "execution_count": 10,
   "metadata": {},
   "outputs": [
    {
     "data": {
      "text/plain": [
       "[3, 3, 3, 3, 3, 3, 3, 17, 17]"
      ]
     },
     "execution_count": 10,
     "metadata": {},
     "output_type": "execute_result"
    }
   ],
   "source": [
    "prime_factors(632043)"
   ]
  },
  {
   "cell_type": "code",
   "execution_count": 1,
   "metadata": {},
   "outputs": [
    {
     "ename": "SyntaxError",
     "evalue": "invalid syntax (2053354272.py, line 1)",
     "output_type": "error",
     "traceback": [
      "\u001b[0;36m  Cell \u001b[0;32mIn[1], line 1\u001b[0;36m\u001b[0m\n\u001b[0;31m    1 2 1 4  5\u001b[0m\n\u001b[0m      ^\u001b[0m\n\u001b[0;31mSyntaxError\u001b[0m\u001b[0;31m:\u001b[0m invalid syntax\n"
     ]
    }
   ],
   "source": [
    "1 2 1 4  5\n",
    "1 3 4 8 13\n",
    "\n",
    "\n",
    "\n",
    "3 4 2 1 3\n",
    "\n",
    "5 = 1 + 1 + 1 + 1 + 1\n",
    "5 = 1 + 1 + 1 + 2\n",
    "5 = 1 + 1 + 3\n",
    "5 = 1 + 2 + 2\n",
    "5 = 1 + 4\n",
    "5 = 2 + 3\n",
    "5 = 5\n",
    "\n",
    "1 1 1 2 2\n",
    "\n",
    "2 2 3 1 0 \n",
    "\n",
    "\n",
    "6 = 1 + 2 + 3\n",
    "6 = 2 + 2 + 2\n",
    "6 = 1 + 1 + 4\n"
   ]
  },
  {
   "cell_type": "code",
   "execution_count": 2,
   "metadata": {},
   "outputs": [
    {
     "data": {
      "text/plain": [
       "8"
      ]
     },
     "execution_count": 2,
     "metadata": {},
     "output_type": "execute_result"
    }
   ],
   "source": [
    "sum([2, 2, 2, 2])"
   ]
  },
  {
   "cell_type": "markdown",
   "metadata": {},
   "source": [
    "# `** RECURSION **`"
   ]
  },
  {
   "cell_type": "code",
   "execution_count": 7,
   "metadata": {},
   "outputs": [],
   "source": [
    "# print all the subsequence of a list\n",
    "def subsequence(index, arr, n, a):\n",
    "    if index >= n:\n",
    "        print(arr)\n",
    "        return \n",
    "    arr.append(a[index]) # take \n",
    "    subsequence(index+1, arr, n, a)\n",
    "    arr.pop() # not take\n",
    "    subsequence(index+1, arr, n, a)"
   ]
  },
  {
   "cell_type": "code",
   "execution_count": 8,
   "metadata": {},
   "outputs": [
    {
     "name": "stdout",
     "output_type": "stream",
     "text": [
      "[3, 1, 2]\n",
      "[3, 1]\n",
      "[3, 2]\n",
      "[3]\n",
      "[1, 2]\n",
      "[1]\n",
      "[2]\n",
      "[]\n"
     ]
    }
   ],
   "source": [
    "a = [3, 1, 2]\n",
    "n = 3\n",
    "subsequence(0, [], n, a)"
   ]
  },
  {
   "cell_type": "code",
   "execution_count": 9,
   "metadata": {},
   "outputs": [],
   "source": [
    "# prints all the subsequences of the list that sum to k\n",
    "def subsequence(index, arr, s, k, n, a):\n",
    "    if index >= n:\n",
    "        if s == k:\n",
    "            print(arr)\n",
    "        return \n",
    "    s += a[index] # take \n",
    "    arr.append(a[index])\n",
    "    subsequence(index+1, arr, s, k, n, a)\n",
    "    s -= a[index] # not take\n",
    "    arr.pop()\n",
    "    subsequence(index+1, arr, s, k, n, a)"
   ]
  },
  {
   "cell_type": "code",
   "execution_count": 11,
   "metadata": {},
   "outputs": [
    {
     "name": "stdout",
     "output_type": "stream",
     "text": [
      "[6]\n"
     ]
    }
   ],
   "source": [
    "a = [1, 3, 6, 10, 15]\n",
    "n = 5\n",
    "k = 6\n",
    "subsequence(0, [], 0, k, n, a)"
   ]
  },
  {
   "cell_type": "code",
   "execution_count": 31,
   "metadata": {},
   "outputs": [
    {
     "name": "stdout",
     "output_type": "stream",
     "text": [
      "[2, 1]\n",
      "[2, 1]\n",
      "[2, 1]\n",
      "[1, 1, 1]\n",
      "[1, 2]\n",
      "[1, 2]\n",
      "[1, 2]\n",
      "[1, 2]\n",
      "[1, 2]\n",
      "[1, 2]\n"
     ]
    }
   ],
   "source": [
    "a = [2, 1, 1, 1, 2, 2]\n",
    "n = 6\n",
    "k = 3\n",
    "subsequence(0, [], 0, k, n, a)"
   ]
  },
  {
   "cell_type": "code",
   "execution_count": 3,
   "metadata": {},
   "outputs": [],
   "source": [
    "# prints only the first subsequence that sums to k\n",
    "def subsequence(index, arr, s, k, n, a):\n",
    "    if index >= n:\n",
    "        if s == k:\n",
    "            print(arr)\n",
    "            return True\n",
    "        return False\n",
    "    s += a[index] # take \n",
    "    arr.append(a[index])\n",
    "    if subsequence(index+1, arr, s, k, n, a):\n",
    "        return True\n",
    "    s -= a[index] # not take\n",
    "    arr.pop()\n",
    "    if subsequence(index+1, arr, s, k, n, a):\n",
    "        return True\n",
    "    \n",
    "    return False"
   ]
  },
  {
   "cell_type": "code",
   "execution_count": 4,
   "metadata": {},
   "outputs": [
    {
     "name": "stdout",
     "output_type": "stream",
     "text": [
      "[2, 1]\n"
     ]
    },
    {
     "data": {
      "text/plain": [
       "True"
      ]
     },
     "execution_count": 4,
     "metadata": {},
     "output_type": "execute_result"
    }
   ],
   "source": [
    "a = [2, 1, 1, 1, 2, 2]\n",
    "n = 6\n",
    "k = 3\n",
    "subsequence(0, [], 0, k, n, a)"
   ]
  },
  {
   "cell_type": "code",
   "execution_count": 8,
   "metadata": {},
   "outputs": [],
   "source": [
    "# prints count of the subsequences that sums to k\n",
    "def subsequence(index, arr, s, k, n, a):\n",
    "    if index >= n:\n",
    "        if s == k:\n",
    "            print(arr)\n",
    "            return 1\n",
    "        return 0\n",
    "    \n",
    "    s += a[index] # take \n",
    "    arr.append(a[index])\n",
    "    l = subsequence(index+1, arr, s, k, n, a)\n",
    "    s -= a[index] # not take\n",
    "    arr.pop()\n",
    "    r = subsequence(index+1, arr, s, k, n, a)\n",
    "\n",
    "    return l + r    "
   ]
  },
  {
   "cell_type": "code",
   "execution_count": 10,
   "metadata": {},
   "outputs": [
    {
     "name": "stdout",
     "output_type": "stream",
     "text": [
      "[3]\n",
      "[1, 2]\n"
     ]
    },
    {
     "data": {
      "text/plain": [
       "2"
      ]
     },
     "execution_count": 10,
     "metadata": {},
     "output_type": "execute_result"
    }
   ],
   "source": [
    "a = [3, 1, 2]\n",
    "n = 3\n",
    "k = 3\n",
    "subsequence(0, [], 0, k, n, a)"
   ]
  },
  {
   "cell_type": "code",
   "execution_count": 26,
   "metadata": {},
   "outputs": [],
   "source": [
    "def subsequence(index, arr, s, n, coins, ans):\n",
    "    if s == n:\n",
    "        print(arr)\n",
    "    return \n",
    "    s += coins[index] # take \n",
    "    arr.append(coins[index])\n",
    "    subsequence(index+1, arr, s, n, coins, ans)\n",
    "    s -= coins[index] # not take\n",
    "    arr.pop()\n",
    "    subsequence(index+1, arr, s, n, coins, ans)"
   ]
  },
  {
   "cell_type": "code",
   "execution_count": 3,
   "metadata": {},
   "outputs": [
    {
     "data": {
      "text/plain": [
       "0"
      ]
     },
     "execution_count": 3,
     "metadata": {},
     "output_type": "execute_result"
    }
   ],
   "source": [
    "4 ^ 4 ^ 4 ^ 4"
   ]
  },
  {
   "cell_type": "code",
   "execution_count": 4,
   "metadata": {},
   "outputs": [
    {
     "ename": "IndexError",
     "evalue": "list index out of range",
     "output_type": "error",
     "traceback": [
      "\u001b[0;31m---------------------------------------------------------------------------\u001b[0m",
      "\u001b[0;31mIndexError\u001b[0m                                Traceback (most recent call last)",
      "Cell \u001b[0;32mIn[4], line 18\u001b[0m\n\u001b[1;32m     15\u001b[0m     r \u001b[38;5;241m=\u001b[39m subsequence(arr, Sum, currSum, n, idx \u001b[38;5;241m+\u001b[39m \u001b[38;5;241m1\u001b[39m, ans)\n\u001b[1;32m     16\u001b[0m     \u001b[38;5;28;01mreturn\u001b[39;00m l \u001b[38;5;241m+\u001b[39m r  \n\u001b[0;32m---> 18\u001b[0m \u001b[43msubsequence\u001b[49m\u001b[43m(\u001b[49m\u001b[43marr\u001b[49m\u001b[43m,\u001b[49m\u001b[43m \u001b[49m\u001b[38;5;241;43m5\u001b[39;49m\u001b[43m)\u001b[49m  \n\u001b[1;32m     19\u001b[0m \u001b[38;5;28mprint\u001b[39m(subs)\n",
      "Cell \u001b[0;32mIn[4], line 12\u001b[0m, in \u001b[0;36msubsequence\u001b[0;34m(arr, Sum, currSum, n, idx, ans)\u001b[0m\n\u001b[1;32m     10\u001b[0m currSum \u001b[38;5;241m+\u001b[39m\u001b[38;5;241m=\u001b[39m arr[idx] \u001b[38;5;66;03m# take \u001b[39;00m\n\u001b[1;32m     11\u001b[0m ans\u001b[38;5;241m.\u001b[39mappend(arr[idx])\n\u001b[0;32m---> 12\u001b[0m l \u001b[38;5;241m=\u001b[39m \u001b[43msubsequence\u001b[49m\u001b[43m(\u001b[49m\u001b[43marr\u001b[49m\u001b[43m,\u001b[49m\u001b[43m \u001b[49m\u001b[43mSum\u001b[49m\u001b[43m,\u001b[49m\u001b[43m \u001b[49m\u001b[43mcurrSum\u001b[49m\u001b[43m,\u001b[49m\u001b[43m \u001b[49m\u001b[43mn\u001b[49m\u001b[43m,\u001b[49m\u001b[43m \u001b[49m\u001b[43midx\u001b[49m\u001b[43m \u001b[49m\u001b[38;5;241;43m+\u001b[39;49m\u001b[43m \u001b[49m\u001b[38;5;241;43m1\u001b[39;49m\u001b[43m,\u001b[49m\u001b[43m \u001b[49m\u001b[43mans\u001b[49m\u001b[43m)\u001b[49m\n\u001b[1;32m     13\u001b[0m currSum \u001b[38;5;241m-\u001b[39m\u001b[38;5;241m=\u001b[39m arr[idx] \u001b[38;5;66;03m# not take\u001b[39;00m\n\u001b[1;32m     14\u001b[0m ans\u001b[38;5;241m.\u001b[39mpop()\n",
      "Cell \u001b[0;32mIn[4], line 12\u001b[0m, in \u001b[0;36msubsequence\u001b[0;34m(arr, Sum, currSum, n, idx, ans)\u001b[0m\n\u001b[1;32m     10\u001b[0m currSum \u001b[38;5;241m+\u001b[39m\u001b[38;5;241m=\u001b[39m arr[idx] \u001b[38;5;66;03m# take \u001b[39;00m\n\u001b[1;32m     11\u001b[0m ans\u001b[38;5;241m.\u001b[39mappend(arr[idx])\n\u001b[0;32m---> 12\u001b[0m l \u001b[38;5;241m=\u001b[39m \u001b[43msubsequence\u001b[49m\u001b[43m(\u001b[49m\u001b[43marr\u001b[49m\u001b[43m,\u001b[49m\u001b[43m \u001b[49m\u001b[43mSum\u001b[49m\u001b[43m,\u001b[49m\u001b[43m \u001b[49m\u001b[43mcurrSum\u001b[49m\u001b[43m,\u001b[49m\u001b[43m \u001b[49m\u001b[43mn\u001b[49m\u001b[43m,\u001b[49m\u001b[43m \u001b[49m\u001b[43midx\u001b[49m\u001b[43m \u001b[49m\u001b[38;5;241;43m+\u001b[39;49m\u001b[43m \u001b[49m\u001b[38;5;241;43m1\u001b[39;49m\u001b[43m,\u001b[49m\u001b[43m \u001b[49m\u001b[43mans\u001b[49m\u001b[43m)\u001b[49m\n\u001b[1;32m     13\u001b[0m currSum \u001b[38;5;241m-\u001b[39m\u001b[38;5;241m=\u001b[39m arr[idx] \u001b[38;5;66;03m# not take\u001b[39;00m\n\u001b[1;32m     14\u001b[0m ans\u001b[38;5;241m.\u001b[39mpop()\n",
      "    \u001b[0;31m[... skipping similar frames: subsequence at line 12 (3 times)]\u001b[0m\n",
      "Cell \u001b[0;32mIn[4], line 12\u001b[0m, in \u001b[0;36msubsequence\u001b[0;34m(arr, Sum, currSum, n, idx, ans)\u001b[0m\n\u001b[1;32m     10\u001b[0m currSum \u001b[38;5;241m+\u001b[39m\u001b[38;5;241m=\u001b[39m arr[idx] \u001b[38;5;66;03m# take \u001b[39;00m\n\u001b[1;32m     11\u001b[0m ans\u001b[38;5;241m.\u001b[39mappend(arr[idx])\n\u001b[0;32m---> 12\u001b[0m l \u001b[38;5;241m=\u001b[39m \u001b[43msubsequence\u001b[49m\u001b[43m(\u001b[49m\u001b[43marr\u001b[49m\u001b[43m,\u001b[49m\u001b[43m \u001b[49m\u001b[43mSum\u001b[49m\u001b[43m,\u001b[49m\u001b[43m \u001b[49m\u001b[43mcurrSum\u001b[49m\u001b[43m,\u001b[49m\u001b[43m \u001b[49m\u001b[43mn\u001b[49m\u001b[43m,\u001b[49m\u001b[43m \u001b[49m\u001b[43midx\u001b[49m\u001b[43m \u001b[49m\u001b[38;5;241;43m+\u001b[39;49m\u001b[43m \u001b[49m\u001b[38;5;241;43m1\u001b[39;49m\u001b[43m,\u001b[49m\u001b[43m \u001b[49m\u001b[43mans\u001b[49m\u001b[43m)\u001b[49m\n\u001b[1;32m     13\u001b[0m currSum \u001b[38;5;241m-\u001b[39m\u001b[38;5;241m=\u001b[39m arr[idx] \u001b[38;5;66;03m# not take\u001b[39;00m\n\u001b[1;32m     14\u001b[0m ans\u001b[38;5;241m.\u001b[39mpop()\n",
      "Cell \u001b[0;32mIn[4], line 15\u001b[0m, in \u001b[0;36msubsequence\u001b[0;34m(arr, Sum, currSum, n, idx, ans)\u001b[0m\n\u001b[1;32m     13\u001b[0m currSum \u001b[38;5;241m-\u001b[39m\u001b[38;5;241m=\u001b[39m arr[idx] \u001b[38;5;66;03m# not take\u001b[39;00m\n\u001b[1;32m     14\u001b[0m ans\u001b[38;5;241m.\u001b[39mpop()\n\u001b[0;32m---> 15\u001b[0m r \u001b[38;5;241m=\u001b[39m \u001b[43msubsequence\u001b[49m\u001b[43m(\u001b[49m\u001b[43marr\u001b[49m\u001b[43m,\u001b[49m\u001b[43m \u001b[49m\u001b[43mSum\u001b[49m\u001b[43m,\u001b[49m\u001b[43m \u001b[49m\u001b[43mcurrSum\u001b[49m\u001b[43m,\u001b[49m\u001b[43m \u001b[49m\u001b[43mn\u001b[49m\u001b[43m,\u001b[49m\u001b[43m \u001b[49m\u001b[43midx\u001b[49m\u001b[43m \u001b[49m\u001b[38;5;241;43m+\u001b[39;49m\u001b[43m \u001b[49m\u001b[38;5;241;43m1\u001b[39;49m\u001b[43m,\u001b[49m\u001b[43m \u001b[49m\u001b[43mans\u001b[49m\u001b[43m)\u001b[49m\n\u001b[1;32m     16\u001b[0m \u001b[38;5;28;01mreturn\u001b[39;00m l \u001b[38;5;241m+\u001b[39m r\n",
      "Cell \u001b[0;32mIn[4], line 8\u001b[0m, in \u001b[0;36msubsequence\u001b[0;34m(arr, Sum, currSum, n, idx, ans)\u001b[0m\n\u001b[1;32m      6\u001b[0m     \u001b[38;5;28;01mif\u001b[39;00m currSum \u001b[38;5;241m==\u001b[39m Sum:\n\u001b[1;32m      7\u001b[0m         subs\u001b[38;5;241m.\u001b[39mappend(ans)\n\u001b[0;32m----> 8\u001b[0m         \u001b[38;5;28;01mreturn\u001b[39;00m \u001b[43marr\u001b[49m\u001b[43m[\u001b[49m\u001b[43midx\u001b[49m\u001b[43m]\u001b[49m\n\u001b[1;32m      9\u001b[0m     \u001b[38;5;28;01mreturn\u001b[39;00m \u001b[38;5;241m0\u001b[39m\n\u001b[1;32m     10\u001b[0m currSum \u001b[38;5;241m+\u001b[39m\u001b[38;5;241m=\u001b[39m arr[idx] \u001b[38;5;66;03m# take \u001b[39;00m\n",
      "\u001b[0;31mIndexError\u001b[0m: list index out of range"
     ]
    }
   ],
   "source": [
    "arr = [1, 2, 3, 4, -2, -3, 5]\n",
    "subs = []\n",
    "# prints count of the subsequences that sums to k\n",
    "def subsequence(arr, Sum, currSum = 0, n = len(arr), idx = 0, ans =[]):\n",
    "    if idx >= n: # base case\n",
    "        if currSum == Sum:\n",
    "            subs.append(ans)\n",
    "            return 1\n",
    "        return 0\n",
    "    currSum += arr[idx] # take \n",
    "    ans.append(arr[idx])\n",
    "    l = subsequence(arr, Sum, currSum, n, idx + 1, ans)\n",
    "    currSum -= arr[idx] # not take\n",
    "    ans.pop()\n",
    "    r = subsequence(arr, Sum, currSum, n, idx + 1, ans)\n",
    "    return l + r  \n",
    "\n",
    "subsequence(arr, 5)  \n",
    "print(subs)"
   ]
  },
  {
   "cell_type": "code",
   "execution_count": null,
   "metadata": {},
   "outputs": [],
   "source": []
  }
 ],
 "metadata": {
  "kernelspec": {
   "display_name": "Python 3",
   "language": "python",
   "name": "python3"
  },
  "language_info": {
   "codemirror_mode": {
    "name": "ipython",
    "version": 3
   },
   "file_extension": ".py",
   "mimetype": "text/x-python",
   "name": "python",
   "nbconvert_exporter": "python",
   "pygments_lexer": "ipython3",
   "version": "3.10.7"
  }
 },
 "nbformat": 4,
 "nbformat_minor": 2
}
