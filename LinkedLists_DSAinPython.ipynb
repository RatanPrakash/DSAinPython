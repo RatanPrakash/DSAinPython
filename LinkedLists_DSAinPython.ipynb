{
 "cells": [
  {
   "cell_type": "code",
   "execution_count": 1,
   "metadata": {},
   "outputs": [
    {
     "name": "stdout",
     "output_type": "stream",
     "text": [
      "Hello, World!\n"
     ]
    }
   ],
   "source": [
    "print(\"Hello, World!\")"
   ]
  },
  {
   "cell_type": "code",
   "execution_count": 2,
   "metadata": {},
   "outputs": [],
   "source": [
    "class Node():\n",
    "    def __init__(self, value) -> None:\n",
    "        self.data = value\n",
    "        self.next = None"
   ]
  },
  {
   "cell_type": "code",
   "execution_count": 3,
   "metadata": {},
   "outputs": [],
   "source": [
    "a = Node(2)\n",
    "b = Node(3)\n",
    "c = Node(4)\n"
   ]
  },
  {
   "cell_type": "code",
   "execution_count": 6,
   "metadata": {},
   "outputs": [
    {
     "name": "stdout",
     "output_type": "stream",
     "text": [
      "2 3 4\n",
      "<__main__.Node object at 0x105bb5cc0> <__main__.Node object at 0x105bb76d0> <__main__.Node object at 0x105bb74f0>\n"
     ]
    }
   ],
   "source": [
    "print(a.data, b.data , c.data)\n",
    "print(a, b, c)"
   ]
  },
  {
   "cell_type": "code",
   "execution_count": 7,
   "metadata": {},
   "outputs": [
    {
     "data": {
      "text/plain": [
       "4391132352"
      ]
     },
     "execution_count": 7,
     "metadata": {},
     "output_type": "execute_result"
    }
   ],
   "source": [
    "id(a)"
   ]
  },
  {
   "cell_type": "code",
   "execution_count": 8,
   "metadata": {},
   "outputs": [],
   "source": [
    "##manually making it a Linked List\n",
    "a.next = b\n",
    "b.next = c"
   ]
  },
  {
   "cell_type": "code",
   "execution_count": 11,
   "metadata": {},
   "outputs": [
    {
     "name": "stdout",
     "output_type": "stream",
     "text": [
      "<__main__.Node object at 0x105bb76d0>\n",
      "0x105bb76d0\n"
     ]
    }
   ],
   "source": [
    "print(a.next)\n",
    "print(hex(id(b)))"
   ]
  },
  {
   "cell_type": "code",
   "execution_count": 534,
   "metadata": {},
   "outputs": [],
   "source": [
    "class LinkedList():\n",
    "    def __init__(self) -> None:\n",
    "        ##create an empty linked list - one with ZERO NODES\n",
    "        self.head = None\n",
    "        self.n = 0 # no. of nodes in the LL\n",
    "\n",
    "    def __len__(self) -> int:\n",
    "        return self.n\n",
    "    \n",
    "    def insert_head(self, value):\n",
    "        new_node = Node(value)  ##new node created with value\n",
    "        new_node.next = self.head  ##creating the connection - new node pointing to current head\n",
    "        self.head = new_node  ##reinitialising the head to the new_node as it is the new starting element\n",
    "        self.n += 1\n",
    "\n",
    "    def append(self, value):\n",
    "        try:\n",
    "            curr = self.head\n",
    "            while curr.next != None: \n",
    "                curr = curr.next\n",
    "            else:\n",
    "                new_node = Node(value)  ##new node created with value\n",
    "                curr.next = new_node  ##creating the connection \n",
    "                new_node.next = None \n",
    "                self.n += 1\n",
    "        except:\n",
    "            self.insert_head(value)\n",
    "\n",
    "    def __str__(self) -> str:\n",
    "        curr = self.head\n",
    "        result = ''\n",
    "        while curr != None: \n",
    "            result += str(curr.data) + '->'\n",
    "            curr = curr.next\n",
    "        \n",
    "        result = result[:-2]\n",
    "\n",
    "        return result\n",
    "\n",
    "    def insert(self, value, index) -> None:\n",
    "        if index >= self.n or index < 0:\n",
    "            return f\"IndexError: index {index} out of range.\"\n",
    "        \n",
    "        if index == 0:\n",
    "            self.insert_head(value)\n",
    "            return \n",
    "        \n",
    "        curr = self.head\n",
    "        i = 0\n",
    "        while index>i+1:\n",
    "            curr = curr.next\n",
    "            i += 1\n",
    "        else:\n",
    "            new_node = Node(value)  \n",
    "            new_node.next = curr.next  ##connecting next element to the current new node tail\n",
    "            curr.next = new_node       ##connecting last element to the current new node head\n",
    "            self.n += 1\n",
    "\n",
    "    def search(self, value) -> int:\n",
    "        curr = self.head\n",
    "        index = 0\n",
    "        while curr != None:\n",
    "            if curr.data == value:\n",
    "                return index\n",
    "            curr = curr.next\n",
    "            index += 1 \n",
    "\n",
    "        return f\"ItemNotFoundError: Item {value} not found in the Linked List.\"\n",
    "\n",
    "    def insert_after(self, after, value):\n",
    "        index = self.search(after)\n",
    "        if type(index) == int:\n",
    "            self.insert(value, index+1)\n",
    "            return\n",
    "        return index\n",
    "    \n",
    "    def clear(self):\n",
    "        ##set to initial conditions\n",
    "        self.head = None\n",
    "        self.n = 0\n",
    "\n",
    "    def delete(self, index):\n",
    "        if index >= self.n or index < 0:\n",
    "            return f\"IndexError: index {index} out of range.\"\n",
    "        \n",
    "        if index == 0:\n",
    "            self.head = self.head.next\n",
    "            self.n -= 1\n",
    "            return\n",
    "\n",
    "        curr = self.head\n",
    "        i = 0\n",
    "        while index-1 > i:\n",
    "            curr = curr.next\n",
    "            i += 1\n",
    "        else:\n",
    "            curr.next = curr.next.next\n",
    "            self.n -= 1\n",
    "\n",
    "    def delete_after(self, after):\n",
    "        index = self.search(after)\n",
    "        try:\n",
    "            self.delete(index)\n",
    "        except:\n",
    "            return index\n",
    "        \n",
    "    def delete_head(self):\n",
    "        self.delete(0)\n",
    "\n",
    "    def delete_value(self, value):\n",
    "        index = self.search(value)\n",
    "\n",
    "        if type(index) == int:\n",
    "            self.delete(index)\n",
    "            return \n",
    "        \n",
    "        return index\n",
    "\n",
    "    def pop(self):\n",
    "        if self.n > 0:\n",
    "            # item = self.search()\n",
    "            self.delete(self.n-1)\n",
    "        else:\n",
    "            return \"EmptyListError: Linked List is already empty.\"\n",
    "\n",
    "    def value_at_index(self, index):\n",
    "        if index < 0 or index >= self.n:\n",
    "            return f\"IndexOutOfRangeError: Index {index} not in range.\"\n",
    "        else:\n",
    "            curr = self.head\n",
    "            i = 0 \n",
    "            while i < index:\n",
    "                curr = curr.next\n",
    "                i += 1\n",
    "            else:\n",
    "                return curr.data\n",
    "\n",
    "    def replace(self, item, value):\n",
    "        curr = self.head\n",
    "        while curr.data != item:\n",
    "            curr = curr.next\n",
    "        else:\n",
    "            curr.data = value\n",
    "\n",
    "    def max(self):\n",
    "        maximum = -float('inf')\n",
    "        curr = self.head\n",
    "        while curr != None:\n",
    "            if curr.data > maximum:\n",
    "                maximum = curr.data\n",
    "            curr = curr.next\n",
    "\n",
    "        return maximum\n",
    "    \n",
    "    def replace_max_with(self, value):\n",
    "        maximum = self.max()\n",
    "        self.replace(maximum, value)\n",
    "\n",
    "    def reverse(self):\n",
    "        curr = self.head\n",
    "        prev = None\n",
    "        while curr != None:\n",
    "            next_node = curr.next\n",
    "            curr.next = prev\n",
    "            prev = curr\n",
    "            curr = next_node\n",
    "        \n",
    "        self.head = prev\n",
    "        \n",
    "    def reverse_with_my_method(self):\n",
    "        curr = self.head\n",
    "        count = 0\n",
    "        while curr.next!= None:\n",
    "            self.insert_head(curr.next.data)\n",
    "            curr = curr.next\n",
    "            count += 1\n",
    "        \n",
    "        while count:\n",
    "            self.pop()\n",
    "            count -= 1\n",
    "\n",
    "    def traverse_sentence_ques(self):\n",
    "        curr = self.head\n",
    "        result = ''\n",
    "        consecutive = 0\n",
    "        upper = False\n",
    "        while curr != None: \n",
    "            if curr.data in ['*', '/'] and consecutive == 0:\n",
    "                result += ' '\n",
    "                consecutive += 1\n",
    "                curr = curr.next\n",
    "                continue\n",
    "            elif curr.data in ['*', '/'] and consecutive == 1:\n",
    "                upper = True\n",
    "                consecutive = 0\n",
    "            else:\n",
    "                if upper:\n",
    "                    result += str(curr.data).upper()\n",
    "                    upper = False\n",
    "                else:\n",
    "                    result += str(curr.data)\n",
    "            consecutive = 0\n",
    "            curr = curr.next\n",
    "\n",
    "        return result"
   ]
  },
  {
   "cell_type": "code",
   "execution_count": 535,
   "metadata": {},
   "outputs": [
    {
     "name": "stdout",
     "output_type": "stream",
     "text": [
      "h->e->l->l->o->*->*->*->*->h->/->h->*->/->h\n"
     ]
    },
    {
     "data": {
      "text/plain": [
       "15"
      ]
     },
     "execution_count": 535,
     "metadata": {},
     "output_type": "execute_result"
    }
   ],
   "source": [
    "L = LinkedList()\n",
    "L.append('h')\n",
    "L.append('e')\n",
    "L.append('l')\n",
    "L.append('l')\n",
    "L.append('o')\n",
    "L.append('*')\n",
    "L.append('*')\n",
    "L.append('*')\n",
    "L.append('*')\n",
    "L.append('h')\n",
    "L.append('/')\n",
    "L.append('h')\n",
    "L.append('*')\n",
    "L.append('/')\n",
    "L.append('h')\n",
    "\n",
    "\n",
    "print(L)\n",
    "len(L)"
   ]
  },
  {
   "cell_type": "code",
   "execution_count": 536,
   "metadata": {},
   "outputs": [
    {
     "data": {
      "text/plain": [
       "'hello  H h H'"
      ]
     },
     "execution_count": 536,
     "metadata": {},
     "output_type": "execute_result"
    }
   ],
   "source": [
    "L.traverse_sentence_ques()"
   ]
  },
  {
   "cell_type": "code",
   "execution_count": 524,
   "metadata": {},
   "outputs": [
    {
     "name": "stdout",
     "output_type": "stream",
     "text": [
      "h->e->l->l->o->*->h->/->h->/->/->h->9->6->1\n"
     ]
    },
    {
     "data": {
      "text/plain": [
       "15"
      ]
     },
     "execution_count": 524,
     "metadata": {},
     "output_type": "execute_result"
    }
   ],
   "source": [
    "L.append(9)\n",
    "L.append(6)\n",
    "L.append(1)\n",
    "print(L)\n",
    "len(L)"
   ]
  },
  {
   "cell_type": "code",
   "execution_count": 348,
   "metadata": {},
   "outputs": [
    {
     "name": "stdout",
     "output_type": "stream",
     "text": [
      "1->3->9->6->1\n"
     ]
    },
    {
     "data": {
      "text/plain": [
       "5"
      ]
     },
     "execution_count": 348,
     "metadata": {},
     "output_type": "execute_result"
    }
   ],
   "source": [
    "L.delete_head()\n",
    "print(L)\n",
    "len(L)"
   ]
  },
  {
   "cell_type": "code",
   "execution_count": 537,
   "metadata": {},
   "outputs": [
    {
     "name": "stdout",
     "output_type": "stream",
     "text": [
      "131.0\n",
      "36.0\n"
     ]
    }
   ],
   "source": [
    "import time \n",
    "t1 = time.clock_gettime_ns(0)\n",
    "L.reverse_with_my_method()\n",
    "t2 = time.clock_gettime_ns(0)\n",
    "L.reverse()\n",
    "t3 = time.clock_gettime_ns(0)\n",
    "\n",
    "\n",
    "print((t2-t1)/1000)\n",
    "print((t3-t2)/1000)"
   ]
  },
  {
   "cell_type": "markdown",
   "metadata": {},
   "source": [
    "## Stacks using Linked Lists"
   ]
  },
  {
   "cell_type": "code",
   "execution_count": 622,
   "metadata": {},
   "outputs": [],
   "source": [
    "class Stack():\n",
    "    def __init__(self) -> None:\n",
    "        self.S = LinkedList()\n",
    "\n",
    "    def push(self, value):\n",
    "        self.S.append(value)\n",
    "\n",
    "    def pop(self):\n",
    "        pop = self.peek()\n",
    "        self.S.pop()\n",
    "        return pop\n",
    "\n",
    "    def peek(self):\n",
    "        return self.S.value_at_index(self.S.n - 1)\n",
    "\n",
    "    def size_of(self):\n",
    "        return self.S.n\n",
    "    \n",
    "    def is_empty(self):\n",
    "        return (self.S.n == 0)\n",
    "    \n",
    "    def visualize(self):\n",
    "        print(self.S)"
   ]
  },
  {
   "cell_type": "code",
   "execution_count": 623,
   "metadata": {},
   "outputs": [],
   "source": [
    "S = Stack()"
   ]
  },
  {
   "cell_type": "code",
   "execution_count": 624,
   "metadata": {},
   "outputs": [
    {
     "data": {
      "text/plain": [
       "True"
      ]
     },
     "execution_count": 624,
     "metadata": {},
     "output_type": "execute_result"
    }
   ],
   "source": [
    "S.is_empty()"
   ]
  },
  {
   "cell_type": "code",
   "execution_count": 625,
   "metadata": {},
   "outputs": [],
   "source": [
    "S.push(4)\n",
    "S.push(0)\n",
    "S.push(3)\n",
    "S.push(9)\n",
    "S.push(2)"
   ]
  },
  {
   "cell_type": "code",
   "execution_count": 626,
   "metadata": {},
   "outputs": [],
   "source": [
    "a , b = S.pop(), S.pop()"
   ]
  },
  {
   "cell_type": "code",
   "execution_count": 627,
   "metadata": {},
   "outputs": [
    {
     "name": "stdout",
     "output_type": "stream",
     "text": [
      "2 9\n"
     ]
    }
   ],
   "source": [
    "print(a, b)"
   ]
  },
  {
   "cell_type": "code",
   "execution_count": 598,
   "metadata": {},
   "outputs": [
    {
     "data": {
      "text/plain": [
       "2"
      ]
     },
     "execution_count": 598,
     "metadata": {},
     "output_type": "execute_result"
    }
   ],
   "source": [
    "S.peek()"
   ]
  },
  {
   "cell_type": "code",
   "execution_count": 599,
   "metadata": {},
   "outputs": [
    {
     "data": {
      "text/plain": [
       "False"
      ]
     },
     "execution_count": 599,
     "metadata": {},
     "output_type": "execute_result"
    }
   ],
   "source": [
    "S.is_empty()"
   ]
  },
  {
   "cell_type": "code",
   "execution_count": 600,
   "metadata": {},
   "outputs": [
    {
     "data": {
      "text/plain": [
       "5"
      ]
     },
     "execution_count": 600,
     "metadata": {},
     "output_type": "execute_result"
    }
   ],
   "source": [
    "S.size_of()"
   ]
  },
  {
   "cell_type": "code",
   "execution_count": 601,
   "metadata": {},
   "outputs": [
    {
     "data": {
      "text/plain": [
       "2"
      ]
     },
     "execution_count": 601,
     "metadata": {},
     "output_type": "execute_result"
    }
   ],
   "source": [
    "S.pop()"
   ]
  },
  {
   "cell_type": "code",
   "execution_count": 602,
   "metadata": {},
   "outputs": [
    {
     "name": "stdout",
     "output_type": "stream",
     "text": [
      "4->0->3->9\n"
     ]
    }
   ],
   "source": [
    "S.visualize()"
   ]
  },
  {
   "cell_type": "code",
   "execution_count": 603,
   "metadata": {},
   "outputs": [
    {
     "data": {
      "text/plain": [
       "4"
      ]
     },
     "execution_count": 603,
     "metadata": {},
     "output_type": "execute_result"
    }
   ],
   "source": [
    "S.size_of()"
   ]
  },
  {
   "cell_type": "code",
   "execution_count": 604,
   "metadata": {},
   "outputs": [
    {
     "data": {
      "text/plain": [
       "9"
      ]
     },
     "execution_count": 604,
     "metadata": {},
     "output_type": "execute_result"
    }
   ],
   "source": [
    "S.peek()"
   ]
  },
  {
   "cell_type": "code",
   "execution_count": 616,
   "metadata": {},
   "outputs": [],
   "source": [
    "def text_editor(text, pattern):\n",
    "    U = Stack()\n",
    "    R = Stack()\n",
    "\n",
    "    for char in text:\n",
    "        U.push(char)\n",
    "    \n",
    "    for char in pattern:\n",
    "        if char.lower() == 'u':\n",
    "            R.push(U.pop())\n",
    "        elif char.lower() == 'r':\n",
    "            U.push(R.pop())\n",
    "        \n",
    "        else:\n",
    "            return f\"invalid character {char}.\"\n",
    "    \n",
    "    print(U.visualize())\n",
    "\n",
    "    "
   ]
  },
  {
   "cell_type": "code",
   "execution_count": 620,
   "metadata": {},
   "outputs": [
    {
     "name": "stdout",
     "output_type": "stream",
     "text": [
      "H->e->l->l\n",
      "None\n"
     ]
    }
   ],
   "source": [
    "text_editor(\"Hello\", \"uuurr\")"
   ]
  },
  {
   "cell_type": "code",
   "execution_count": 753,
   "metadata": {},
   "outputs": [],
   "source": [
    "#     A  B  C  D     \n",
    "L = [[0, 0, 1, 1], #A\n",
    "     [0, 0, 1, 1], #B\n",
    "     [1, 0, 0, 1], #C\n",
    "     [0, 0, 0, 0]] #D\n"
   ]
  },
  {
   "cell_type": "code",
   "execution_count": 754,
   "metadata": {},
   "outputs": [],
   "source": [
    "def celebrity_finder(matrix):\n",
    "    people = range(len(matrix))\n",
    "    S = Stack()\n",
    "    for person in people:\n",
    "        S.push(person)\n",
    "    \n",
    "    while S.size_of() > 1:\n",
    "        if S.is_empty():\n",
    "            return None\n",
    "\n",
    "        person1, person2 = S.pop(), S.pop()\n",
    "        ##relation check can be done by matrix[person1][person2] -- checking if P1 knows P2\n",
    "        if matrix[person1][person2]: ##checking if P1 knows P2\n",
    "            S.push(person2) ##putting back only P2\n",
    "        \n",
    "        elif matrix[person2][person1]:##checking if P2 knows P1\n",
    "            S.push(person1) ##putting back only P1\n",
    "\n",
    "##  Checking if last remaining element is celeb or not.\n",
    "    wanna_celeb = int(S.pop())\n",
    "    for person2 in people:\n",
    "        if not matrix[person2][wanna_celeb] and (person2 != wanna_celeb):\n",
    "            return None\n",
    "        \n",
    "\n",
    "    if sum(matrix[wanna_celeb]) == 0:\n",
    "        S.push(wanna_celeb)\n",
    "    if not S.is_empty():\n",
    "        return S.pop() ##celebrity popped and returned\n",
    "    else:\n",
    "        return None ##No celebrity\n"
   ]
  },
  {
   "cell_type": "code",
   "execution_count": 755,
   "metadata": {},
   "outputs": [
    {
     "name": "stdout",
     "output_type": "stream",
     "text": [
      "3\n"
     ]
    }
   ],
   "source": [
    "print(celebrity_finder(L))"
   ]
  },
  {
   "cell_type": "code",
   "execution_count": 756,
   "metadata": {},
   "outputs": [
    {
     "name": "stdout",
     "output_type": "stream",
     "text": [
      "0\n"
     ]
    }
   ],
   "source": [
    "#     A  B  C    \n",
    "L = [[0, 0, 0], #A\n",
    "     [1, 1, 1], #B\n",
    "     [1, 0, 0]] #C\n",
    "\n",
    "print(celebrity_finder(L))"
   ]
  },
  {
   "cell_type": "code",
   "execution_count": 757,
   "metadata": {},
   "outputs": [
    {
     "name": "stdout",
     "output_type": "stream",
     "text": [
      "4\n"
     ]
    }
   ],
   "source": [
    "#     A  B  C  D  E  \n",
    "L = [[0, 0, 1, 0, 1], #A\n",
    "     [1, 1, 1, 0, 1], #B\n",
    "     [0, 0, 0, 0, 1], #C\n",
    "     [1, 1, 1, 1, 1], #D\n",
    "     [0, 0, 0, 0, 0]] #E\n",
    "\n",
    "print(celebrity_finder(L))"
   ]
  },
  {
   "cell_type": "code",
   "execution_count": 758,
   "metadata": {},
   "outputs": [
    {
     "name": "stdout",
     "output_type": "stream",
     "text": [
      "None\n"
     ]
    }
   ],
   "source": [
    "#     A  B  C    \n",
    "L = [[1, 1, 1], #A\n",
    "     [1, 1, 1], #B\n",
    "     [1, 1, 1]] #C\n",
    "\n",
    "print(celebrity_finder(L))"
   ]
  },
  {
   "cell_type": "code",
   "execution_count": 759,
   "metadata": {},
   "outputs": [
    {
     "name": "stdout",
     "output_type": "stream",
     "text": [
      "None\n"
     ]
    }
   ],
   "source": [
    "#     A  B  C    \n",
    "L = [[0, 0, 0], #A\n",
    "     [0, 0, 0], #B\n",
    "     [0, 0, 0]] #C\n",
    "\n",
    "print(celebrity_finder(L))"
   ]
  },
  {
   "cell_type": "code",
   "execution_count": 775,
   "metadata": {},
   "outputs": [],
   "source": [
    "def valid_expression(expression):\n",
    "    S = Stack()\n",
    "    for char in expression:\n",
    "        if char in ['(', '[', '{']:\n",
    "            S.push(char)\n",
    "        \n",
    "        elif char in [')', ']', '}']:\n",
    "            if char == ')' and S.peek() == '(':\n",
    "                S.pop()\n",
    "            elif char == ']' and S.peek() == '[':\n",
    "                S.pop()\n",
    "            elif char == '}' and S.peek() == '{':\n",
    "                S.pop()\n",
    "            else:\n",
    "                return False\n",
    "    \n",
    "    return S.is_empty()\n"
   ]
  },
  {
   "cell_type": "code",
   "execution_count": 794,
   "metadata": {},
   "outputs": [
    {
     "data": {
      "text/plain": [
       "True"
      ]
     },
     "execution_count": 794,
     "metadata": {},
     "output_type": "execute_result"
    }
   ],
   "source": [
    "valid_expression(\"{[A+B]C}\")"
   ]
  },
  {
   "cell_type": "markdown",
   "metadata": {},
   "source": [
    "## QUEUE using Linked Lists"
   ]
  },
  {
   "cell_type": "code",
   "execution_count": 869,
   "metadata": {},
   "outputs": [],
   "source": [
    "class Queue():\n",
    "    def __init__(self) -> None:\n",
    "        self.front = None\n",
    "        self.rear = None\n",
    "        self.n = 0\n",
    "\n",
    "    def enqueue(self, value):\n",
    "        new_node = Node(value)\n",
    "        \n",
    "        if self.rear == None:\n",
    "            self.front = new_node\n",
    "            self.rear = self.front\n",
    "            self.n += 1\n",
    "        \n",
    "        else:\n",
    "            self.rear.next = new_node\n",
    "            self.rear = new_node\n",
    "            self.n += 1\n",
    "\n",
    "\n",
    "    def dequeue(self):\n",
    "        if self.front == None:\n",
    "            return \"Queue already empty.\"\n",
    "        else:\n",
    "            self.front = self.front.next\n",
    "            self.n -= 1\n",
    "\n",
    "    def traverse(self):\n",
    "        curr = self.front\n",
    "\n",
    "        while curr != None:\n",
    "            print(curr.data, end = ' ')\n",
    "            curr = curr.next\n",
    "\n",
    "    def sizeof(self):\n",
    "        return self.n\n",
    "    \n",
    "    def peek_front(self):\n",
    "        if self.front == None:\n",
    "            return \"Empty\"\n",
    "        return self.front.data\n",
    "    \n",
    "    def peek_rear(self):\n",
    "        if self.front == None:\n",
    "            return \"Empty\"\n",
    "        return self.rear.data"
   ]
  },
  {
   "cell_type": "code",
   "execution_count": 870,
   "metadata": {},
   "outputs": [
    {
     "name": "stdout",
     "output_type": "stream",
     "text": [
      "3 2 9 5 "
     ]
    },
    {
     "data": {
      "text/plain": [
       "4"
      ]
     },
     "execution_count": 870,
     "metadata": {},
     "output_type": "execute_result"
    }
   ],
   "source": [
    "Q = Queue()\n",
    "Q.enqueue(3)\n",
    "Q.enqueue(2)\n",
    "Q.enqueue(9)\n",
    "Q.enqueue(5)\n",
    "Q.traverse()\n",
    "Q.sizeof()"
   ]
  },
  {
   "cell_type": "code",
   "execution_count": 883,
   "metadata": {},
   "outputs": [],
   "source": [
    "Q.dequeue()"
   ]
  },
  {
   "cell_type": "code",
   "execution_count": 884,
   "metadata": {},
   "outputs": [
    {
     "data": {
      "text/plain": [
       "0"
      ]
     },
     "execution_count": 884,
     "metadata": {},
     "output_type": "execute_result"
    }
   ],
   "source": [
    "Q.traverse()\n",
    "Q.sizeof()"
   ]
  },
  {
   "cell_type": "code",
   "execution_count": 885,
   "metadata": {},
   "outputs": [
    {
     "data": {
      "text/plain": [
       "'Empty'"
      ]
     },
     "execution_count": 885,
     "metadata": {},
     "output_type": "execute_result"
    }
   ],
   "source": [
    "Q.peek_front()"
   ]
  },
  {
   "cell_type": "code",
   "execution_count": 886,
   "metadata": {},
   "outputs": [
    {
     "data": {
      "text/plain": [
       "'Empty'"
      ]
     },
     "execution_count": 886,
     "metadata": {},
     "output_type": "execute_result"
    }
   ],
   "source": [
    "Q.peek_rear()"
   ]
  },
  {
   "cell_type": "code",
   "execution_count": null,
   "metadata": {},
   "outputs": [],
   "source": []
  },
  {
   "cell_type": "code",
   "execution_count": null,
   "metadata": {},
   "outputs": [],
   "source": []
  },
  {
   "cell_type": "code",
   "execution_count": 796,
   "metadata": {},
   "outputs": [],
   "source": [
    "## easy way, my way of doing it \n",
    "class Queue():\n",
    "    def __init__(self) -> None:\n",
    "        self.Q = LinkedList()\n",
    "\n",
    "    def enqueue(self, value):\n",
    "        self.Q.append(value)\n",
    "\n",
    "    def dequeue(self):\n",
    "        dequeue = self.Q.value_at_index(0)\n",
    "        self.Q.delete_head()\n",
    "        return dequeue\n"
   ]
  },
  {
   "cell_type": "code",
   "execution_count": 797,
   "metadata": {},
   "outputs": [],
   "source": [
    "Q = Queue()"
   ]
  },
  {
   "cell_type": "code",
   "execution_count": 798,
   "metadata": {},
   "outputs": [],
   "source": [
    "Q.enqueue(3)"
   ]
  },
  {
   "cell_type": "code",
   "execution_count": 800,
   "metadata": {},
   "outputs": [
    {
     "data": {
      "text/plain": [
       "'IndexOutOfRangeError: Index 0 not in range.'"
      ]
     },
     "execution_count": 800,
     "metadata": {},
     "output_type": "execute_result"
    }
   ],
   "source": [
    "Q.dequeue()"
   ]
  },
  {
   "cell_type": "code",
   "execution_count": null,
   "metadata": {},
   "outputs": [],
   "source": []
  }
 ],
 "metadata": {
  "kernelspec": {
   "display_name": "Python 3",
   "language": "python",
   "name": "python3"
  },
  "language_info": {
   "codemirror_mode": {
    "name": "ipython",
    "version": 3
   },
   "file_extension": ".py",
   "mimetype": "text/x-python",
   "name": "python",
   "nbconvert_exporter": "python",
   "pygments_lexer": "ipython3",
   "version": "3.10.7"
  },
  "orig_nbformat": 4
 },
 "nbformat": 4,
 "nbformat_minor": 2
}
